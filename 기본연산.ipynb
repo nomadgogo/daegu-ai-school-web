{
 "cells": [
  {
   "cell_type": "markdown",
   "id": "9d48ab67",
   "metadata": {},
   "source": [
    "## ESC +\n",
    "markdaown : M <br>\n",
    "code : Y <br>\n",
    "    현재 셀 취로 추가 : A,                아래로 추가 : B <br>\n",
    "    현재 셀 자르기 : X,                  복사 : C <br>"
   ]
  },
  {
   "cell_type": "code",
   "execution_count": 1,
   "id": "08eeafdd",
   "metadata": {},
   "outputs": [
    {
     "data": {
      "text/plain": [
       "True"
      ]
     },
     "execution_count": 1,
     "metadata": {},
     "output_type": "execute_result"
    }
   ],
   "source": [
    "1<2"
   ]
  },
  {
   "cell_type": "code",
   "execution_count": 2,
   "id": "c1eea852",
   "metadata": {},
   "outputs": [
    {
     "data": {
      "text/plain": [
       "False"
      ]
     },
     "execution_count": 2,
     "metadata": {},
     "output_type": "execute_result"
    }
   ],
   "source": [
    "1>2"
   ]
  },
  {
   "cell_type": "code",
   "execution_count": 3,
   "id": "fdd3b633",
   "metadata": {},
   "outputs": [
    {
     "data": {
      "text/plain": [
       "False"
      ]
     },
     "execution_count": 3,
     "metadata": {},
     "output_type": "execute_result"
    }
   ],
   "source": [
    "1==2"
   ]
  },
  {
   "cell_type": "code",
   "execution_count": 4,
   "id": "a0a6d249",
   "metadata": {},
   "outputs": [
    {
     "data": {
      "text/plain": [
       "False"
      ]
     },
     "execution_count": 4,
     "metadata": {},
     "output_type": "execute_result"
    }
   ],
   "source": [
    "1>=2"
   ]
  },
  {
   "cell_type": "code",
   "execution_count": 6,
   "id": "e1bd0bf5",
   "metadata": {},
   "outputs": [
    {
     "name": "stdout",
     "output_type": "stream",
     "text": [
      "1\n",
      "2\n"
     ]
    }
   ],
   "source": [
    "print(7%3)   #  % 결과값은 나머지\n",
    "print(11%3)"
   ]
  },
  {
   "cell_type": "code",
   "execution_count": 11,
   "id": "f1899db1",
   "metadata": {},
   "outputs": [
    {
     "name": "stdout",
     "output_type": "stream",
     "text": [
      "2\n",
      "7\n"
     ]
    }
   ],
   "source": [
    "print(7//3)  #    //는 몫\n",
    "print(21//3)"
   ]
  },
  {
   "cell_type": "code",
   "execution_count": 12,
   "id": "f3c62cea",
   "metadata": {},
   "outputs": [
    {
     "name": "stdout",
     "output_type": "stream",
     "text": [
      "3 is less than 7\n"
     ]
    }
   ],
   "source": [
    "if 3 < 7 :\n",
    "    print(\"3 is less than 7\")"
   ]
  },
  {
   "cell_type": "code",
   "execution_count": 13,
   "id": "71d3954e",
   "metadata": {},
   "outputs": [
    {
     "ename": "IndentationError",
     "evalue": "expected an indented block (Temp/ipykernel_24416/925012082.py, line 2)",
     "output_type": "error",
     "traceback": [
      "\u001b[1;36m  File \u001b[1;32m\"C:\\Users\\Ss\\AppData\\Local\\Temp/ipykernel_24416/925012082.py\"\u001b[1;36m, line \u001b[1;32m2\u001b[0m\n\u001b[1;33m    print(\"3 is less than 7\")\u001b[0m\n\u001b[1;37m    ^\u001b[0m\n\u001b[1;31mIndentationError\u001b[0m\u001b[1;31m:\u001b[0m expected an indented block\n"
     ]
    }
   ],
   "source": [
    "if 3 < 7 :\n",
    "print(\"3 is less than 7\")   # 들여쓰기를 안 맞추면 이렇게 오류가 생김"
   ]
  },
  {
   "cell_type": "markdown",
   "id": "54561809",
   "metadata": {},
   "source": [
    "### input"
   ]
  },
  {
   "cell_type": "code",
   "execution_count": 14,
   "id": "9dacba3c",
   "metadata": {},
   "outputs": [
    {
     "name": "stdout",
     "output_type": "stream",
     "text": [
      "당신의 이름은 무엇입니까?\n",
      "노마드고고\n",
      "노마드고고!!!\n"
     ]
    }
   ],
   "source": [
    "print(\"당신의 이름은 무엇입니까?\")\n",
    "my_name = input()\n",
    "print(my_name + \"!!!\")"
   ]
  },
  {
   "cell_type": "code",
   "execution_count": 15,
   "id": "90a78211",
   "metadata": {},
   "outputs": [
    {
     "name": "stdout",
     "output_type": "stream",
     "text": [
      "당신의 이름은 무엇입니까? :\n",
      "노마드고고\n",
      "노마드고고\n"
     ]
    }
   ],
   "source": [
    "print(\"당신의 이름은 무엇입니까? :\")\n",
    "my_name = input()\n",
    "print(my_name)"
   ]
  },
  {
   "cell_type": "markdown",
   "id": "f9335450",
   "metadata": {},
   "source": [
    "### 변수"
   ]
  },
  {
   "cell_type": "code",
   "execution_count": 16,
   "id": "ff4b1cad",
   "metadata": {},
   "outputs": [
    {
     "name": "stdout",
     "output_type": "stream",
     "text": [
      "language\n",
      "python\n"
     ]
    }
   ],
   "source": [
    "print(\"language\")    #그래도 출력되는 '문자열'\n",
    "language = \"python\"  # 변수에 'python'이라는 문자열을 대입.그 대입시킨 변수를 출력\n",
    "print(language)"
   ]
  },
  {
   "cell_type": "markdown",
   "id": "40bc0a5a",
   "metadata": {},
   "source": [
    "### 변수 대,소문자 구분\n",
    "변수를 설정할 때 반드시 대/소문자 구분을 해줘야 한다."
   ]
  },
  {
   "cell_type": "code",
   "execution_count": 18,
   "id": "9def4db4",
   "metadata": {},
   "outputs": [
    {
     "name": "stdout",
     "output_type": "stream",
     "text": [
      "Tom\n",
      "Paul\n",
      "BEN\n"
     ]
    }
   ],
   "source": [
    "Name = \"Tom\"\n",
    "nAme = \"Paul\"\n",
    "NAME = \"BEN\"\n",
    "print(Name)\n",
    "print(nAme)\n",
    "print(NAME)  "
   ]
  },
  {
   "cell_type": "markdown",
   "id": "bff75eb4",
   "metadata": {},
   "source": [
    "### 기본 자료형\n",
    "숫자형(number) : 정수(int), 실수(float), 복소수(complex)<br>\n",
    "문자열(string): 문자를 나타내는 자료형, 문자열(str)<br>\n",
    "불린형(boolean): 명제를 참/거짓으로 구분하는 자료형 (bool)<br>"
   ]
  },
  {
   "cell_type": "code",
   "execution_count": 21,
   "id": "d5c0ec6a",
   "metadata": {},
   "outputs": [
    {
     "data": {
      "text/plain": [
       "str"
      ]
     },
     "execution_count": 21,
     "metadata": {},
     "output_type": "execute_result"
    }
   ],
   "source": [
    "a = 'tom'\n",
    "type(a)"
   ]
  },
  {
   "cell_type": "code",
   "execution_count": 22,
   "id": "430f2598",
   "metadata": {},
   "outputs": [
    {
     "data": {
      "text/plain": [
       "int"
      ]
     },
     "execution_count": 22,
     "metadata": {},
     "output_type": "execute_result"
    }
   ],
   "source": [
    "b = 1\n",
    "type(b)"
   ]
  },
  {
   "cell_type": "code",
   "execution_count": 24,
   "id": "ebcfb75c",
   "metadata": {},
   "outputs": [
    {
     "name": "stdout",
     "output_type": "stream",
     "text": [
      "10.123\n",
      "<class 'float'>\n"
     ]
    }
   ],
   "source": [
    "my_num = 10.123 #실수\n",
    "print(my_num)\n",
    "print(type(my_num))"
   ]
  },
  {
   "cell_type": "code",
   "execution_count": 25,
   "id": "defc7e1a",
   "metadata": {},
   "outputs": [
    {
     "name": "stdout",
     "output_type": "stream",
     "text": [
      "10\n",
      "<class 'int'>\n"
     ]
    }
   ],
   "source": [
    "my_num = 10\n",
    "print(my_num)\n",
    "print(type(my_num))"
   ]
  },
  {
   "cell_type": "code",
   "execution_count": 26,
   "id": "5d6619cd",
   "metadata": {},
   "outputs": [
    {
     "name": "stdout",
     "output_type": "stream",
     "text": [
      "Tom\n",
      "<class 'str'>\n"
     ]
    }
   ],
   "source": [
    "my_name = \"Tom\"\n",
    "print(my_name)\n",
    "print(type(my_name))"
   ]
  },
  {
   "cell_type": "code",
   "execution_count": 27,
   "id": "dffbacf3",
   "metadata": {},
   "outputs": [
    {
     "name": "stdout",
     "output_type": "stream",
     "text": [
      "True\n",
      "<class 'bool'>\n"
     ]
    }
   ],
   "source": [
    "my_bool = True\n",
    "print(my_bool)\n",
    "print(type(my_bool))"
   ]
  },
  {
   "cell_type": "markdown",
   "id": "34d543a2",
   "metadata": {},
   "source": [
    "### 기본 자료형(문자열)"
   ]
  },
  {
   "cell_type": "code",
   "execution_count": 30,
   "id": "5f23a430",
   "metadata": {},
   "outputs": [
    {
     "name": "stdout",
     "output_type": "stream",
     "text": [
      "This is also a name.\n",
      "This is also a name\".\n",
      "This is also a 'name'.\n"
     ]
    }
   ],
   "source": [
    "print('This is also a name.')\n",
    "print('This is also a name\".')\n",
    "print(\"This is also a 'name'.\")"
   ]
  },
  {
   "cell_type": "markdown",
   "id": "86a838d7",
   "metadata": {},
   "source": [
    "### 인덱싱 "
   ]
  },
  {
   "cell_type": "code",
   "execution_count": 31,
   "id": "4f1726a0",
   "metadata": {},
   "outputs": [
    {
     "name": "stdout",
     "output_type": "stream",
     "text": [
      "h\n",
      "y\n"
     ]
    }
   ],
   "source": [
    "A = \"python\"\n",
    "print(A[-3])   # -붙으면 끝에서 부터 -1이 시작.\n",
    "print(A[-5])"
   ]
  },
  {
   "cell_type": "markdown",
   "id": "b88794aa",
   "metadata": {},
   "source": [
    "### 슬라이싱\n",
    "변수[시작 인덱스 : 끝 인덱스 : 한 번에 몇 칸씩 변동시킬 것인가]<br>\n",
    "시작 인덱스 번호부터 요소를 포함, 끝 인덱스의 요소는 제외."
   ]
  },
  {
   "cell_type": "code",
   "execution_count": 3,
   "id": "a5819f15",
   "metadata": {},
   "outputs": [
    {
     "name": "stdout",
     "output_type": "stream",
     "text": [
      "python\n",
      "ho\n",
      "pto\n",
      "yh\n",
      "nohtyp\n"
     ]
    }
   ],
   "source": [
    "A = \"python\"   # 0: p, 1: y, 2: t, 3: h, 4: o ,5: n\n",
    "print(A[::])\n",
    "print(A[3:5:])\n",
    "print(A[::2])\n",
    "print(A[1:4:2])\n",
    "print(A[::-1])"
   ]
  },
  {
   "cell_type": "markdown",
   "id": "684ae782",
   "metadata": {},
   "source": [
    "## 리스트 데이터 구조"
   ]
  },
  {
   "cell_type": "code",
   "execution_count": 5,
   "id": "e9305daa",
   "metadata": {},
   "outputs": [
    {
     "name": "stdout",
     "output_type": "stream",
     "text": [
      "['nomad', 'list', 'is', 'nice', 'list']\n"
     ]
    }
   ],
   "source": [
    "word1 = \"is\"\n",
    "word2 = \"nice\"\n",
    "my_list =[\"nomad\",\"list\",word1,word2,'list']\n",
    "print(my_list)"
   ]
  },
  {
   "cell_type": "markdown",
   "id": "a7803214",
   "metadata": {},
   "source": [
    "### 리스트 인덱싱, 슬라이싱"
   ]
  },
  {
   "cell_type": "code",
   "execution_count": 10,
   "id": "ba4556b0",
   "metadata": {},
   "outputs": [
    {
     "name": "stdout",
     "output_type": "stream",
     "text": [
      "nomad\n",
      "list\n",
      "is\n",
      "nice\n",
      "list\n"
     ]
    }
   ],
   "source": [
    "my_list =['nomad','list','is','nice','list']\n",
    "print(my_list[0])\n",
    "print(my_list[1])\n",
    "print(my_list[2])\n",
    "print(my_list[3])\n",
    "print(my_list[4])"
   ]
  },
  {
   "cell_type": "code",
   "execution_count": 17,
   "id": "b3d4a301",
   "metadata": {},
   "outputs": [
    {
     "name": "stdout",
     "output_type": "stream",
     "text": [
      "['nomad', 'list', 'is']\n",
      "['list', 'is', 'nice']\n",
      "['nomad', 'list', 'is', 'nice']\n",
      "['is', 'nice', 'list']\n",
      "['nomad', 'list', 'is', 'nice', 'list']\n",
      "['nomad', 'nice']\n",
      "['list', 'nice', 'is', 'list', 'nomad']\n"
     ]
    }
   ],
   "source": [
    "my_list =['nomad','list','is','nice','list']\n",
    "print(my_list[0:3:])\n",
    "print(my_list[1:4:])\n",
    "print(my_list[:4:])\n",
    "print(my_list[2::])\n",
    "print(my_list[::1])\n",
    "print(my_list[::3])\n",
    "print(my_list[::-1])"
   ]
  },
  {
   "cell_type": "markdown",
   "id": "4dcb3ea0",
   "metadata": {},
   "source": [
    "시퀀스 자료형이란 값이 연속적으로 이어진 자료형을 의미. list, tuple, range, 문자열 등이 있다."
   ]
  },
  {
   "cell_type": "markdown",
   "id": "0db82e57",
   "metadata": {},
   "source": [
    "### 리스트 요소 추가"
   ]
  },
  {
   "cell_type": "code",
   "execution_count": 2,
   "id": "837da1a2",
   "metadata": {},
   "outputs": [
    {
     "name": "stdout",
     "output_type": "stream",
     "text": [
      "['ha', 'he', 'ho']\n",
      "['ha', 'he', 'ho', 'wow']\n"
     ]
    }
   ],
   "source": [
    "Na = ['ha','he','ho']\n",
    "print(Na)\n",
    "Na.append('wow')  # 리스트이 맨 마지막에 요소를 추가\n",
    "print(Na)"
   ]
  },
  {
   "cell_type": "code",
   "execution_count": 4,
   "id": "e3f35f84",
   "metadata": {},
   "outputs": [
    {
     "name": "stdout",
     "output_type": "stream",
     "text": [
      "['ha', 'he', 'wow', 'ho']\n"
     ]
    }
   ],
   "source": [
    "Na = ['ha','he','ho']\n",
    "Na.insert(2,'wow')  # 추가하고 싶은 위치에, 요소 추가\n",
    "print(Na)"
   ]
  },
  {
   "cell_type": "markdown",
   "id": "ec18995a",
   "metadata": {},
   "source": [
    "### 리스트 요소 삭제"
   ]
  },
  {
   "cell_type": "code",
   "execution_count": 5,
   "id": "6c48610e",
   "metadata": {},
   "outputs": [
    {
     "name": "stdout",
     "output_type": "stream",
     "text": [
      "['he', 'ho']\n"
     ]
    }
   ],
   "source": [
    "Na = ['ha','he','ho']\n",
    "del Na[0]  # 삭제를 원하는 요소의 인덱스를 확인한 다음 del 명령, 리스트 요소 삭제\n",
    "print(Na)"
   ]
  },
  {
   "cell_type": "markdown",
   "id": "0d818a86",
   "metadata": {},
   "source": [
    "### 리스트 요소 개수 확인"
   ]
  },
  {
   "cell_type": "code",
   "execution_count": 6,
   "id": "0d1477b7",
   "metadata": {},
   "outputs": [
    {
     "name": "stdout",
     "output_type": "stream",
     "text": [
      "3\n"
     ]
    }
   ],
   "source": [
    "Na = ['ha','he','ho']\n",
    "print(len(Na)) # 리스트의 요소 개수를 계산"
   ]
  },
  {
   "cell_type": "markdown",
   "id": "e8cb656a",
   "metadata": {},
   "source": [
    "## 자료 구조_딕셔너리 (dict)\n",
    "자료 구조의 두 번째 형태. 사전 형태와 비슷. 각각의 데이터에 이름을 붙여 줄 수 있음. <br>\n",
    "중괄호{}를 통해 표현. 그 안에 요소를 ,로 구분. 요소 하나하나마다 key값,value값이 있음."
   ]
  },
  {
   "cell_type": "code",
   "execution_count": 8,
   "id": "8abe3793",
   "metadata": {},
   "outputs": [
    {
     "name": "stdout",
     "output_type": "stream",
     "text": [
      "green\n",
      "5\n"
     ]
    }
   ],
   "source": [
    "Tree ={'color': 'green', 'num':5} #color,num이 key값, green, 5가 value 값.\n",
    "print(Tree['color'])\n",
    "print(Tree['num'])"
   ]
  },
  {
   "cell_type": "markdown",
   "id": "b2899c1a",
   "metadata": {},
   "source": [
    "### 딕셔너리 요소 추가"
   ]
  },
  {
   "cell_type": "code",
   "execution_count": 14,
   "id": "ae0b2d7e",
   "metadata": {},
   "outputs": [
    {
     "name": "stdout",
     "output_type": "stream",
     "text": [
      "<class 'dict'>\n",
      "{'color': 'green', 'num': '5'}\n",
      "{'color': 'green', 'num': '5', 'x_position': 0, 'y_position': 25}\n"
     ]
    }
   ],
   "source": [
    "Tree={}\n",
    "print(type(Tree))\n",
    "Tree['color']='green'\n",
    "Tree['num']='5'\n",
    "print(Tree)\n",
    "\n",
    "Tree['x_position']=0\n",
    "Tree['y_position']=25\n",
    "print(Tree)"
   ]
  },
  {
   "cell_type": "markdown",
   "id": "8c728a0d",
   "metadata": {},
   "source": [
    "### 딕셔너리 요소 수정"
   ]
  },
  {
   "cell_type": "code",
   "execution_count": 20,
   "id": "1764ca90",
   "metadata": {},
   "outputs": [
    {
     "name": "stdout",
     "output_type": "stream",
     "text": [
      "The Tree is green.\n",
      "The Tree is yellow.\n"
     ]
    }
   ],
   "source": [
    "Tree={'color' : 'green'}\n",
    "print(\"The Tree is \" +  Tree['color'] + \".\")\n",
    "\n",
    "Tree['color']= 'yellow'\n",
    "print(\"The Tree is \" +  Tree['color'] + \".\")\n",
    "\n",
    "#리스트에서 요소는 수정하지 못하고, 삭제하고 다시 집어넣어줘야 하지만, 딕셔너리는 바로 수정할 수 있다. \n",
    "#단 key 값은 변하지 않고 value 값만 수정할 수 있다.\n",
    "#요소를 처음에 추가했듯이 똑같이 명령을 실행시키되, 바꾸고 싶은 value 값을 넣어주면 됨.\n"
   ]
  },
  {
   "cell_type": "markdown",
   "id": "70954f3b",
   "metadata": {},
   "source": [
    "### 딕셔너리 요소 삭제"
   ]
  },
  {
   "cell_type": "code",
   "execution_count": 21,
   "id": "a5a8d682",
   "metadata": {},
   "outputs": [
    {
     "name": "stdout",
     "output_type": "stream",
     "text": [
      "{'color': 'green'}\n"
     ]
    }
   ],
   "source": [
    "Tree ={'color': 'green', 'num':5} \n",
    "del Tree['num']  # key 값을 넣어주면, value가 함께 삭제됨. 둘은 항상 붙어 다님.\n",
    "print(Tree)"
   ]
  },
  {
   "cell_type": "markdown",
   "id": "252ccf09",
   "metadata": {},
   "source": [
    "### 딕셔너리 key, value, item 추출법"
   ]
  },
  {
   "cell_type": "code",
   "execution_count": 30,
   "id": "09e0b7e8",
   "metadata": {},
   "outputs": [
    {
     "name": "stdout",
     "output_type": "stream",
     "text": [
      "dict_keys(['color', 'num'])\n",
      "['green', 5]\n",
      "[('color', 'green'), ('num', 5)]\n"
     ]
    }
   ],
   "source": [
    "Tree ={'color': 'green', 'num':5} \n",
    "Tree_keys = list(Tree.keys())\n",
    "print(Tree.keys())\n",
    "\n",
    "Tree_values = list(Tree.values())\n",
    "print(Tree_values)\n",
    "\n",
    "Tree_items = list(Tree.items())\n",
    "print(Tree_items)"
   ]
  },
  {
   "cell_type": "markdown",
   "id": "4d97e531",
   "metadata": {},
   "source": [
    "만약 앞에 list를 붙이지 않을 때는 dict_keys, dict_values, dict_items라는 형태로 출력되지만 기초를 배우는 입장에서 헷갈리는 개념이기 때문에 list로 만들어서 진행.\n",
    "key값과 value 값을 함께 가져오고 싶다면 Tree.items()를 통해 함께 불러올 수 있음."
   ]
  },
  {
   "cell_type": "markdown",
   "id": "d77c8c4f",
   "metadata": {},
   "source": [
    "### 딕셔너리 value 값의 특징"
   ]
  },
  {
   "cell_type": "code",
   "execution_count": 36,
   "id": "c9e5556a",
   "metadata": {},
   "outputs": [
    {
     "name": "stdout",
     "output_type": "stream",
     "text": [
      "{'key_1': 'first_value', 'key_2': 2, 'key_3': 3.14, 'key_4': True, 'key_5': [4, 2, 1], 'key_6': {'inner_key': 6}}\n"
     ]
    }
   ],
   "source": [
    "my_dict1 ={\n",
    "    'key_1': 'first_value',\n",
    "    'key_2': 2,\n",
    "    'key_3': 3.14,\n",
    "    'key_4': True,\n",
    "    'key_5': [4, 2, 1],\n",
    "    'key_6': {'inner_key':6}\n",
    "}\n",
    "\n",
    "print(my_dict1)"
   ]
  },
  {
   "cell_type": "markdown",
   "id": "9a4d6951",
   "metadata": {},
   "source": [
    "### 딕셔너리 key 값의 특징"
   ]
  },
  {
   "cell_type": "code",
   "execution_count": 42,
   "id": "ffd1f229",
   "metadata": {},
   "outputs": [
    {
     "ename": "TypeError",
     "evalue": "unhashable type: 'list'",
     "output_type": "error",
     "traceback": [
      "\u001b[1;31m---------------------------------------------------------------------------\u001b[0m",
      "\u001b[1;31mTypeError\u001b[0m                                 Traceback (most recent call last)",
      "\u001b[1;32m~\\AppData\\Local\\Temp/ipykernel_4752/915395415.py\u001b[0m in \u001b[0;36m<module>\u001b[1;34m\u001b[0m\n\u001b[1;32m----> 1\u001b[1;33m my_dict2 ={\n\u001b[0m\u001b[0;32m      2\u001b[0m     \u001b[1;36m4\u001b[0m\u001b[1;33m:\u001b[0m \u001b[1;34m'four'\u001b[0m\u001b[1;33m,\u001b[0m\u001b[1;33m\u001b[0m\u001b[1;33m\u001b[0m\u001b[0m\n\u001b[0;32m      3\u001b[0m     \u001b[1;34m'1.5'\u001b[0m\u001b[1;33m:\u001b[0m \u001b[1;34m'one point five'\u001b[0m\u001b[1;33m,\u001b[0m\u001b[1;33m\u001b[0m\u001b[1;33m\u001b[0m\u001b[0m\n\u001b[0;32m      4\u001b[0m     \u001b[1;34m'string_key'\u001b[0m \u001b[1;33m:\u001b[0m \u001b[1;34m'string_value'\u001b[0m\u001b[1;33m,\u001b[0m\u001b[1;33m\u001b[0m\u001b[1;33m\u001b[0m\u001b[0m\n\u001b[0;32m      5\u001b[0m     \u001b[1;32mTrue\u001b[0m\u001b[1;33m:\u001b[0m \u001b[1;34m'True'\u001b[0m\u001b[1;33m,\u001b[0m\u001b[1;33m\u001b[0m\u001b[1;33m\u001b[0m\u001b[0m\n",
      "\u001b[1;31mTypeError\u001b[0m: unhashable type: 'list'"
     ]
    }
   ],
   "source": [
    "my_dict2 ={\n",
    "    4: 'four',\n",
    "    '1.5': 'one point five', \n",
    "    'string_key' : 'string_value',\n",
    "    True: 'True',\n",
    "    [1,2, 3]: True,\n",
    "    {10: 'ten'}: 'a dictionary'\n",
    "      }\n",
    "print(my_dict2)"
   ]
  },
  {
   "cell_type": "markdown",
   "id": "ce4c55ec",
   "metadata": {},
   "source": [
    "↑  list는 key 값이 될 수 없고, dict 값도 key 값이 될 수 없다.<br>\n",
    "반면 4 정수(int), 1.5실수(float), string_key 문자열(str), True 불린형(bool)은 key 값이 될 수 있다."
   ]
  },
  {
   "cell_type": "code",
   "execution_count": 43,
   "id": "e91d7554",
   "metadata": {},
   "outputs": [
    {
     "name": "stdout",
     "output_type": "stream",
     "text": [
      "{4: 'four', '1.5': 'one point five', 'string_key': 'string_value', True: 'True'}\n"
     ]
    }
   ],
   "source": [
    "my_dict2 ={\n",
    "    4: 'four',\n",
    "    '1.5': 'one point five', \n",
    "    'string_key' : 'string_value',\n",
    "    True: 'True',\n",
    "      }\n",
    "print(my_dict2)"
   ]
  },
  {
   "cell_type": "markdown",
   "id": "ccd272fc",
   "metadata": {},
   "source": [
    "### 자료 구조_range"
   ]
  },
  {
   "cell_type": "code",
   "execution_count": 45,
   "id": "7af5de56",
   "metadata": {},
   "outputs": [
    {
     "name": "stdout",
     "output_type": "stream",
     "text": [
      "range(0, 5)\n",
      "[0, 1, 2, 3, 4]\n"
     ]
    }
   ],
   "source": [
    "my_range = range(5)\n",
    "print(my_range)\n",
    "print(list(my_range))"
   ]
  },
  {
   "cell_type": "markdown",
   "id": "ef5053b7",
   "metadata": {},
   "source": [
    "range : 0부터 설정한 수까지의 정수의 나열"
   ]
  },
  {
   "cell_type": "code",
   "execution_count": 46,
   "id": "4b9f8479",
   "metadata": {},
   "outputs": [
    {
     "name": "stdout",
     "output_type": "stream",
     "text": [
      "[2, 3, 4]\n"
     ]
    }
   ],
   "source": [
    "my_range = range(2,5)\n",
    "print(list(my_range))"
   ]
  },
  {
   "cell_type": "markdown",
   "id": "738c41ea",
   "metadata": {},
   "source": [
    "range의 인덱싱& 슬라이싱에 관한 내용. "
   ]
  },
  {
   "cell_type": "code",
   "execution_count": 48,
   "id": "fdf7af39",
   "metadata": {},
   "outputs": [
    {
     "name": "stdout",
     "output_type": "stream",
     "text": [
      "[1, 3, 5]\n"
     ]
    }
   ],
   "source": [
    "my_range = range(1, 7, 2) # 0 ~ 6 (7 이전까지)까지 2칸씩 이동한 숫자.\n",
    "print(list(my_range))"
   ]
  },
  {
   "cell_type": "markdown",
   "id": "cc4c2048",
   "metadata": {},
   "source": [
    "### 조건문/반복문\n",
    "\n",
    "IF문과 FOR문. <br>"
   ]
  },
  {
   "cell_type": "markdown",
   "id": "adb240c6",
   "metadata": {},
   "source": [
    "### IF문\n",
    "들여쓰기 중요 <p>\n",
    "if (조건A):<br>\n",
    "(조건 A가 True일 때 해당 코드가 실행됨)<br>\n",
    "elif (조건B): <br>\n",
    "(조건 A가 False인 상태에서, 조건 B가 True라면 해당 코드가 실행됨) <br>\n",
    "else: <br>\n",
    "(조건 A도 조건 B도 False인 상태라면, 해당 코드가 실행됨)"
   ]
  },
  {
   "cell_type": "code",
   "execution_count": 51,
   "id": "a3e9e48f",
   "metadata": {},
   "outputs": [
    {
     "name": "stdout",
     "output_type": "stream",
     "text": [
      "a is greater than b\n"
     ]
    }
   ],
   "source": [
    "a = 34\n",
    "b = 33\n",
    "if a > b:\n",
    "    print(\"a is greater than b\")\n",
    "elif a < b:\n",
    "    print(\"a is less than b\")\n",
    "else:\n",
    "    print(\"a is not greater than b and not less than b\")"
   ]
  },
  {
   "cell_type": "markdown",
   "id": "3a8d8887",
   "metadata": {},
   "source": [
    "### FOR문\n",
    "특정 조건까지의 반복작업. if문을 통해서 의사결정을 내렸으면, for문을 통해서 계속 반복행동. 자동화 완성.<p>\n",
    "    for (변수) in (자료 구조):<br>\n",
    "    반복할 코드"
   ]
  },
  {
   "cell_type": "code",
   "execution_count": 52,
   "id": "3ba1ddef",
   "metadata": {},
   "outputs": [
    {
     "name": "stdout",
     "output_type": "stream",
     "text": [
      "나는 2년 안에 행복한 부자가 된다\n",
      "나는 2년 안에 행복한 부자가 된다\n",
      "나는 2년 안에 행복한 부자가 된다\n",
      "나는 2년 안에 행복한 부자가 된다\n",
      "나는 2년 안에 행복한 부자가 된다\n"
     ]
    }
   ],
   "source": [
    "for a in range(5):\n",
    "    print(\"나는 2년 안에 행복한 부자가 된다\")"
   ]
  },
  {
   "cell_type": "code",
   "execution_count": 53,
   "id": "1d60a5ae",
   "metadata": {},
   "outputs": [
    {
     "name": "stdout",
     "output_type": "stream",
     "text": [
      "0\n",
      "1\n",
      "2\n",
      "3\n",
      "4\n"
     ]
    }
   ],
   "source": [
    "numbers =[0,1,2,3,4]\n",
    "for a in numbers:   # a라는 변수에 리스트의 요소를 하나씩 대입\n",
    "    print(a)"
   ]
  },
  {
   "cell_type": "code",
   "execution_count": 54,
   "id": "bb6fb453",
   "metadata": {},
   "outputs": [
    {
     "name": "stdout",
     "output_type": "stream",
     "text": [
      "0\n",
      "1\n",
      "2\n",
      "3\n",
      "4\n",
      "5\n",
      "6\n",
      "7\n",
      "8\n",
      "9\n"
     ]
    }
   ],
   "source": [
    "for a in range(10):     # 변수 a 주고 실행, 마지막 9까지 출력됨.\n",
    "    print(a)    "
   ]
  },
  {
   "cell_type": "markdown",
   "id": "c62943cb",
   "metadata": {},
   "source": [
    "### for문 안에서의 변수의 변화"
   ]
  },
  {
   "cell_type": "code",
   "execution_count": 61,
   "id": "17b8432a",
   "metadata": {},
   "outputs": [
    {
     "name": "stdout",
     "output_type": "stream",
     "text": [
      "I like lemon.\n",
      "I like kiwi.\n",
      "I like orange.\n"
     ]
    }
   ],
   "source": [
    "fruits = ['lemon', 'kiwi', 'orange']\n",
    "for a in fruits :\n",
    "    print(\"I like \" + a + \".\")"
   ]
  },
  {
   "cell_type": "code",
   "execution_count": 62,
   "id": "e58e16f1",
   "metadata": {},
   "outputs": [
    {
     "name": "stdout",
     "output_type": "stream",
     "text": [
      "I ate orange today.\n"
     ]
    }
   ],
   "source": [
    "    print(\"I ate \" + a + \" today.\")  #for문이 종료되고 난 뒤, a라는 변수느s 'orange'라는 문자열 유지."
   ]
  },
  {
   "cell_type": "markdown",
   "id": "103ddfbb",
   "metadata": {},
   "source": [
    "### for문 응용(리스트 요소 추가)"
   ]
  },
  {
   "cell_type": "code",
   "execution_count": 69,
   "id": "678739c5",
   "metadata": {},
   "outputs": [
    {
     "name": "stdout",
     "output_type": "stream",
     "text": [
      "[0, 2, 4, 6, 8]\n"
     ]
    }
   ],
   "source": [
    "squares =[]\n",
    "for a in range(5):\n",
    "    b = a*2\n",
    "    squares. append(b)\n",
    "print(squares)"
   ]
  },
  {
   "cell_type": "markdown",
   "id": "e7907338",
   "metadata": {},
   "source": [
    "1행: squares 라는 비어있는 리스트를 생성. <br>\n",
    "2행: for문을 통해 자료 하나하나 저장. range(5)=[0,1,2,3,4], 처음 0이 'a' 변수에 대입됨.<br>\n",
    "3행: 새로운 변수인 'b'를 a*2의 값에 대응함. b=0*2 <br>\n",
    "4행: 비어있는 squares 리스트에 'b'변수  추가. 다시 for문 반복코드(3,4행)실행.. <br>\n",
    "그렇게 하나씩 대응하여 squares는 요소가 하나씩 생겨나고 최종적으로 5개 요소가 들어간 리스트가 됨"
   ]
  },
  {
   "cell_type": "markdown",
   "id": "f4994d34",
   "metadata": {},
   "source": [
    "### for문 응용(딕셔너리)"
   ]
  },
  {
   "cell_type": "code",
   "execution_count": 72,
   "id": "48a8483b",
   "metadata": {},
   "outputs": [
    {
     "name": "stdout",
     "output_type": "stream",
     "text": [
      "a\n",
      "b\n",
      "k\n"
     ]
    }
   ],
   "source": [
    "my_dict = {\n",
    "    \"a\": \"apple\",\n",
    "    \"b\": \"banana\",\n",
    "    \"k\": \"kiwi\"\n",
    "}\n",
    "for a in my_dict:\n",
    "    print(a)"
   ]
  },
  {
   "cell_type": "markdown",
   "id": "43224d79",
   "metadata": {},
   "source": [
    "딕셔너리는 key값만 출력된다."
   ]
  },
  {
   "cell_type": "code",
   "execution_count": 73,
   "id": "5bfc5b69",
   "metadata": {},
   "outputs": [
    {
     "name": "stdout",
     "output_type": "stream",
     "text": [
      "apple\n",
      "banana\n",
      "kiwi\n"
     ]
    }
   ],
   "source": [
    "my_dict = {\n",
    "    \"a\": \"apple\",\n",
    "    \"b\": \"banana\",\n",
    "    \"k\": \"kiwi\"\n",
    "}\n",
    "for a in my_dict.values():   # value 값을 얻는 법.\n",
    "    print(a)"
   ]
  },
  {
   "cell_type": "code",
   "execution_count": 75,
   "id": "1b018ced",
   "metadata": {},
   "outputs": [
    {
     "name": "stdout",
     "output_type": "stream",
     "text": [
      "('a', 'apple')\n",
      "('b', 'banana')\n",
      "('k', 'kiwi')\n"
     ]
    }
   ],
   "source": [
    "my_dict = {\n",
    "    \"a\": \"apple\",\n",
    "    \"b\": \"banana\",\n",
    "    \"k\": \"kiwi\"\n",
    "}\n",
    "for a in my_dict.items():   # key값과 value 값을 함께 얻는 법.\n",
    "    print(a)"
   ]
  },
  {
   "cell_type": "markdown",
   "id": "c2f9f49b",
   "metadata": {},
   "source": [
    "### for문 응용(2중 for문)"
   ]
  },
  {
   "cell_type": "code",
   "execution_count": 76,
   "id": "f80ffec0",
   "metadata": {},
   "outputs": [
    {
     "name": "stdout",
     "output_type": "stream",
     "text": [
      "0 0\n",
      "0 1\n",
      "0 2\n",
      "1 0\n",
      "1 1\n",
      "1 2\n"
     ]
    }
   ],
   "source": [
    "for i in range(2):  # i : 0, 1\n",
    "    for j in range(3):  # j : 0, 1, 2\n",
    "        print(i, j)            #이해안된다.........ㅠ"
   ]
  },
  {
   "cell_type": "markdown",
   "id": "72acef68",
   "metadata": {},
   "source": [
    " ### while문 (반복문)"
   ]
  },
  {
   "cell_type": "code",
   "execution_count": 85,
   "id": "120f1555",
   "metadata": {},
   "outputs": [
    {
     "name": "stdout",
     "output_type": "stream",
     "text": [
      "1\n",
      "2\n",
      "3\n",
      "4\n",
      "5\n",
      "6\n",
      "7\n",
      "8\n",
      "9\n"
     ]
    }
   ],
   "source": [
    "number = 1\n",
    "while number < 10 :\n",
    "    print(number)\n",
    "    number=number+1"
   ]
  },
  {
   "cell_type": "code",
   "execution_count": 86,
   "id": "a15c0c39",
   "metadata": {},
   "outputs": [],
   "source": [
    " ### 반복문 제어(continue, break)"
   ]
  },
  {
   "cell_type": "code",
   "execution_count": 89,
   "id": "983f59f7",
   "metadata": {},
   "outputs": [
    {
     "name": "stdout",
     "output_type": "stream",
     "text": [
      "1\n",
      "!\n",
      "2\n"
     ]
    }
   ],
   "source": [
    "i = 1\n",
    "while i < 6 :\n",
    "    print(i)\n",
    "    i = i +1\n",
    "    if i == 3:\n",
    "        break\n",
    "    print(\"!\")"
   ]
  },
  {
   "cell_type": "code",
   "execution_count": 90,
   "id": "996df16a",
   "metadata": {},
   "outputs": [
    {
     "name": "stdout",
     "output_type": "stream",
     "text": [
      "1\n",
      "!\n",
      "2\n",
      "3\n",
      "!\n",
      "4\n",
      "!\n",
      "5\n",
      "!\n"
     ]
    }
   ],
   "source": [
    "i = 1\n",
    "while i < 6 :\n",
    "    print(i)\n",
    "    i = i +1\n",
    "    if i == 3:\n",
    "        continue\n",
    "    print(\"!\")"
   ]
  },
  {
   "cell_type": "markdown",
   "id": "40ea2b60",
   "metadata": {},
   "source": [
    "break는 반복문을 완전히 정지시키지만, continue는 해당 루프만 정지시키고 다음 루프로 넘어감."
   ]
  },
  {
   "cell_type": "code",
   "execution_count": 91,
   "id": "c022d2ae",
   "metadata": {},
   "outputs": [
    {
     "data": {
      "text/plain": [
       "11"
      ]
     },
     "execution_count": 91,
     "metadata": {},
     "output_type": "execute_result"
    }
   ],
   "source": [
    "def function(a):\n",
    "    a = a+3\n",
    "    return a+3\n",
    "function(5)"
   ]
  },
  {
   "cell_type": "markdown",
   "id": "ec4495a3",
   "metadata": {},
   "source": [
    "def 함수이름(매개변수): <br>\n",
    "실행시키고 싶은 코드 <br>\n",
    "return 출력되는 값"
   ]
  },
  {
   "cell_type": "markdown",
   "id": "0f7751e1",
   "metadata": {},
   "source": [
    "### 기타 자주 쓰이는 구문"
   ]
  },
  {
   "cell_type": "code",
   "execution_count": 95,
   "id": "8dc69935",
   "metadata": {},
   "outputs": [
    {
     "name": "stdout",
     "output_type": "stream",
     "text": [
      "비현코의 파이썬 강의는 실용적이다.\n"
     ]
    }
   ],
   "source": [
    "abc = '비현코'\n",
    "efg = f'{abc}의 파이썬 강의는 실용적이다.'     # 문자열 안에 변수치환\n",
    "print(efg)"
   ]
  },
  {
   "cell_type": "code",
   "execution_count": 96,
   "id": "eae8eb41",
   "metadata": {},
   "outputs": [
    {
     "ename": "ZeroDivisionError",
     "evalue": "division by zero",
     "output_type": "error",
     "traceback": [
      "\u001b[1;31m---------------------------------------------------------------------------\u001b[0m",
      "\u001b[1;31mZeroDivisionError\u001b[0m                         Traceback (most recent call last)",
      "\u001b[1;32m~\\AppData\\Local\\Temp/ipykernel_4752/507670003.py\u001b[0m in \u001b[0;36m<module>\u001b[1;34m\u001b[0m\n\u001b[1;32m----> 1\u001b[1;33m \u001b[0mabc\u001b[0m \u001b[1;33m=\u001b[0m\u001b[1;36m1\u001b[0m\u001b[1;33m/\u001b[0m\u001b[1;36m0\u001b[0m\u001b[1;33m\u001b[0m\u001b[1;33m\u001b[0m\u001b[0m\n\u001b[0m",
      "\u001b[1;31mZeroDivisionError\u001b[0m: division by zero"
     ]
    }
   ],
   "source": [
    "abc =1/0"
   ]
  },
  {
   "cell_type": "code",
   "execution_count": 97,
   "id": "159a4a15",
   "metadata": {},
   "outputs": [
    {
     "name": "stdout",
     "output_type": "stream",
     "text": [
      "오류발생\n"
     ]
    }
   ],
   "source": [
    "try:\n",
    "    abc=1/0\n",
    "except:\n",
    "    print(\"오류발생\")"
   ]
  },
  {
   "cell_type": "code",
   "execution_count": null,
   "id": "22e5b6ea",
   "metadata": {},
   "outputs": [],
   "source": []
  }
 ],
 "metadata": {
  "kernelspec": {
   "display_name": "Python 3 (ipykernel)",
   "language": "python",
   "name": "python3"
  },
  "language_info": {
   "codemirror_mode": {
    "name": "ipython",
    "version": 3
   },
   "file_extension": ".py",
   "mimetype": "text/x-python",
   "name": "python",
   "nbconvert_exporter": "python",
   "pygments_lexer": "ipython3",
   "version": "3.9.7"
  }
 },
 "nbformat": 4,
 "nbformat_minor": 5
}
