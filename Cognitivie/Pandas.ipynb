{
 "cells": [
  {
   "cell_type": "markdown",
   "id": "1c7875b1",
   "metadata": {},
   "source": [
    "### 자료구조: Series와 Dataframe\n",
    "Pandas에서 제공하는 데이터 자료구조는 Series와 Dataframe 두가지가 존재하는데 Series는 시계열과 유사한 데이터로서 index와 value가 존재하고 Dataframe은 딕셔너리데이터를 매트릭스 형태로 만들어 준 것 같은 frame을 가지고 있다. 이런 데이터 구조를 통해 시계열, 비시계열 데이터를 통합하여 다룰 수 있다.\n",
    "\n",
    "### Series"
   ]
  },
  {
   "cell_type": "code",
   "execution_count": 1,
   "id": "e72accae",
   "metadata": {},
   "outputs": [],
   "source": [
    "import pandas as pd\n",
    "from pandas import Series, DataFrame"
   ]
  },
  {
   "cell_type": "code",
   "execution_count": 9,
   "id": "18c3b080",
   "metadata": {},
   "outputs": [],
   "source": [
    "fruit = Series([2500,3800,1200,6000], index=['apple','banana','pear','cherry'])"
   ]
  },
  {
   "cell_type": "code",
   "execution_count": 10,
   "id": "21ab9dfb",
   "metadata": {},
   "outputs": [
    {
     "data": {
      "text/plain": [
       "apple     2500\n",
       "banana    3800\n",
       "pear      1200\n",
       "cherry    6000\n",
       "dtype: int64"
      ]
     },
     "execution_count": 10,
     "metadata": {},
     "output_type": "execute_result"
    }
   ],
   "source": [
    "fruit"
   ]
  },
  {
   "cell_type": "code",
   "execution_count": 11,
   "id": "bbd59367",
   "metadata": {},
   "outputs": [
    {
     "name": "stdout",
     "output_type": "stream",
     "text": [
      "[2500 3800 1200 6000]\n"
     ]
    }
   ],
   "source": [
    "print(fruit.values)"
   ]
  },
  {
   "cell_type": "code",
   "execution_count": 12,
   "id": "cf2132a0",
   "metadata": {},
   "outputs": [
    {
     "name": "stdout",
     "output_type": "stream",
     "text": [
      "Index(['apple', 'banana', 'pear', 'cherry'], dtype='object')\n"
     ]
    }
   ],
   "source": [
    "print(fruit.index)"
   ]
  },
  {
   "cell_type": "code",
   "execution_count": 13,
   "id": "280fba70",
   "metadata": {},
   "outputs": [],
   "source": [
    "fruitData={'apple':2500, 'banana':3800, 'pear':1200, 'cherry':6000}\n",
    "fruit = Series(fruitData)"
   ]
  },
  {
   "cell_type": "code",
   "execution_count": 15,
   "id": "ad296e3e",
   "metadata": {},
   "outputs": [
    {
     "name": "stdout",
     "output_type": "stream",
     "text": [
      "<class 'dict'>\n",
      "<class 'pandas.core.series.Series'>\n"
     ]
    }
   ],
   "source": [
    "print(type(fruitData))  # print 써줘서 실행해 줘야 둘다 나옴.\n",
    "print(type(fruit))"
   ]
  },
  {
   "cell_type": "code",
   "execution_count": 16,
   "id": "18eae972",
   "metadata": {},
   "outputs": [
    {
     "data": {
      "text/plain": [
       "apple     2500\n",
       "banana    3800\n",
       "pear      1200\n",
       "cherry    6000\n",
       "dtype: int64"
      ]
     },
     "execution_count": 16,
     "metadata": {},
     "output_type": "execute_result"
    }
   ],
   "source": [
    "fruit"
   ]
  },
  {
   "cell_type": "code",
   "execution_count": 19,
   "id": "09959325",
   "metadata": {},
   "outputs": [],
   "source": [
    "fruit.name='fruitPrice'\n",
    "fruit.index.name ='fruitName'"
   ]
  },
  {
   "cell_type": "code",
   "execution_count": 20,
   "id": "a42b015d",
   "metadata": {},
   "outputs": [
    {
     "data": {
      "text/plain": [
       "fruitName\n",
       "apple     2500\n",
       "banana    3800\n",
       "pear      1200\n",
       "cherry    6000\n",
       "Name: fruitPrice, dtype: int64"
      ]
     },
     "execution_count": 20,
     "metadata": {},
     "output_type": "execute_result"
    }
   ],
   "source": [
    "fruit"
   ]
  },
  {
   "cell_type": "code",
   "execution_count": 21,
   "id": "8e46299e",
   "metadata": {},
   "outputs": [],
   "source": [
    "fruitData = {'fruitName':['apple','banana','cherry','pear'],\n",
    "              'fruitPrice':[2500,3800,6000,1200],\n",
    "              'num':[10,5,3,8]\n",
    "            }              #fruitName이 key, 옆의 리스트가 하나의 value가 됨"
   ]
  },
  {
   "cell_type": "code",
   "execution_count": 22,
   "id": "a6751a18",
   "metadata": {},
   "outputs": [],
   "source": [
    "fruitFrame = DataFrame(fruitData)"
   ]
  },
  {
   "cell_type": "code",
   "execution_count": 24,
   "id": "e11df218",
   "metadata": {},
   "outputs": [
    {
     "data": {
      "text/html": [
       "<div>\n",
       "<style scoped>\n",
       "    .dataframe tbody tr th:only-of-type {\n",
       "        vertical-align: middle;\n",
       "    }\n",
       "\n",
       "    .dataframe tbody tr th {\n",
       "        vertical-align: top;\n",
       "    }\n",
       "\n",
       "    .dataframe thead th {\n",
       "        text-align: right;\n",
       "    }\n",
       "</style>\n",
       "<table border=\"1\" class=\"dataframe\">\n",
       "  <thead>\n",
       "    <tr style=\"text-align: right;\">\n",
       "      <th></th>\n",
       "      <th>fruitName</th>\n",
       "      <th>fruitPrice</th>\n",
       "      <th>num</th>\n",
       "    </tr>\n",
       "  </thead>\n",
       "  <tbody>\n",
       "    <tr>\n",
       "      <th>0</th>\n",
       "      <td>apple</td>\n",
       "      <td>2500</td>\n",
       "      <td>10</td>\n",
       "    </tr>\n",
       "    <tr>\n",
       "      <th>1</th>\n",
       "      <td>banana</td>\n",
       "      <td>3800</td>\n",
       "      <td>5</td>\n",
       "    </tr>\n",
       "    <tr>\n",
       "      <th>2</th>\n",
       "      <td>cherry</td>\n",
       "      <td>6000</td>\n",
       "      <td>3</td>\n",
       "    </tr>\n",
       "    <tr>\n",
       "      <th>3</th>\n",
       "      <td>pear</td>\n",
       "      <td>1200</td>\n",
       "      <td>8</td>\n",
       "    </tr>\n",
       "  </tbody>\n",
       "</table>\n",
       "</div>"
      ],
      "text/plain": [
       "  fruitName  fruitPrice  num\n",
       "0     apple        2500   10\n",
       "1    banana        3800    5\n",
       "2    cherry        6000    3\n",
       "3      pear        1200    8"
      ]
     },
     "execution_count": 24,
     "metadata": {},
     "output_type": "execute_result"
    }
   ],
   "source": [
    "fruitFrame   #print 문을 빼니까 표로 더 예쁘게 나옴"
   ]
  },
  {
   "cell_type": "code",
   "execution_count": 25,
   "id": "3d763a9c",
   "metadata": {},
   "outputs": [],
   "source": [
    "fruitFrame=DataFrame(fruitData, columns = ['fruitPrice','num','fruitName'])   #순서바꾸기 가능"
   ]
  },
  {
   "cell_type": "code",
   "execution_count": 26,
   "id": "b311991d",
   "metadata": {},
   "outputs": [
    {
     "data": {
      "text/html": [
       "<div>\n",
       "<style scoped>\n",
       "    .dataframe tbody tr th:only-of-type {\n",
       "        vertical-align: middle;\n",
       "    }\n",
       "\n",
       "    .dataframe tbody tr th {\n",
       "        vertical-align: top;\n",
       "    }\n",
       "\n",
       "    .dataframe thead th {\n",
       "        text-align: right;\n",
       "    }\n",
       "</style>\n",
       "<table border=\"1\" class=\"dataframe\">\n",
       "  <thead>\n",
       "    <tr style=\"text-align: right;\">\n",
       "      <th></th>\n",
       "      <th>fruitPrice</th>\n",
       "      <th>num</th>\n",
       "      <th>fruitName</th>\n",
       "    </tr>\n",
       "  </thead>\n",
       "  <tbody>\n",
       "    <tr>\n",
       "      <th>0</th>\n",
       "      <td>2500</td>\n",
       "      <td>10</td>\n",
       "      <td>apple</td>\n",
       "    </tr>\n",
       "    <tr>\n",
       "      <th>1</th>\n",
       "      <td>3800</td>\n",
       "      <td>5</td>\n",
       "      <td>banana</td>\n",
       "    </tr>\n",
       "    <tr>\n",
       "      <th>2</th>\n",
       "      <td>6000</td>\n",
       "      <td>3</td>\n",
       "      <td>cherry</td>\n",
       "    </tr>\n",
       "    <tr>\n",
       "      <th>3</th>\n",
       "      <td>1200</td>\n",
       "      <td>8</td>\n",
       "      <td>pear</td>\n",
       "    </tr>\n",
       "  </tbody>\n",
       "</table>\n",
       "</div>"
      ],
      "text/plain": [
       "   fruitPrice  num fruitName\n",
       "0        2500   10     apple\n",
       "1        3800    5    banana\n",
       "2        6000    3    cherry\n",
       "3        1200    8      pear"
      ]
     },
     "execution_count": 26,
     "metadata": {},
     "output_type": "execute_result"
    }
   ],
   "source": [
    "fruitFrame"
   ]
  },
  {
   "cell_type": "code",
   "execution_count": 27,
   "id": "57efaeac",
   "metadata": {},
   "outputs": [
    {
     "data": {
      "text/plain": [
       "0     apple\n",
       "1    banana\n",
       "2    cherry\n",
       "3      pear\n",
       "Name: fruitName, dtype: object"
      ]
     },
     "execution_count": 27,
     "metadata": {},
     "output_type": "execute_result"
    }
   ],
   "source": [
    "fruitFrame['fruitName']"
   ]
  },
  {
   "cell_type": "code",
   "execution_count": 28,
   "id": "1981c9e6",
   "metadata": {},
   "outputs": [
    {
     "data": {
      "text/plain": [
       "0     apple\n",
       "1    banana\n",
       "2    cherry\n",
       "3      pear\n",
       "Name: fruitName, dtype: object"
      ]
     },
     "execution_count": 28,
     "metadata": {},
     "output_type": "execute_result"
    }
   ],
   "source": [
    "fruitFrame.fruitName"
   ]
  },
  {
   "cell_type": "code",
   "execution_count": 33,
   "id": "a21dcc55",
   "metadata": {},
   "outputs": [],
   "source": [
    "fruitFrame['Year'] = '2022'   # 새로운 컬럼 추가 "
   ]
  },
  {
   "cell_type": "code",
   "execution_count": 34,
   "id": "1a61c483",
   "metadata": {},
   "outputs": [
    {
     "data": {
      "text/html": [
       "<div>\n",
       "<style scoped>\n",
       "    .dataframe tbody tr th:only-of-type {\n",
       "        vertical-align: middle;\n",
       "    }\n",
       "\n",
       "    .dataframe tbody tr th {\n",
       "        vertical-align: top;\n",
       "    }\n",
       "\n",
       "    .dataframe thead th {\n",
       "        text-align: right;\n",
       "    }\n",
       "</style>\n",
       "<table border=\"1\" class=\"dataframe\">\n",
       "  <thead>\n",
       "    <tr style=\"text-align: right;\">\n",
       "      <th></th>\n",
       "      <th>fruitPrice</th>\n",
       "      <th>num</th>\n",
       "      <th>fruitName</th>\n",
       "      <th>Year</th>\n",
       "    </tr>\n",
       "  </thead>\n",
       "  <tbody>\n",
       "    <tr>\n",
       "      <th>0</th>\n",
       "      <td>2500</td>\n",
       "      <td>10</td>\n",
       "      <td>apple</td>\n",
       "      <td>2022</td>\n",
       "    </tr>\n",
       "    <tr>\n",
       "      <th>1</th>\n",
       "      <td>3800</td>\n",
       "      <td>5</td>\n",
       "      <td>banana</td>\n",
       "      <td>2022</td>\n",
       "    </tr>\n",
       "    <tr>\n",
       "      <th>2</th>\n",
       "      <td>6000</td>\n",
       "      <td>3</td>\n",
       "      <td>cherry</td>\n",
       "      <td>2022</td>\n",
       "    </tr>\n",
       "    <tr>\n",
       "      <th>3</th>\n",
       "      <td>1200</td>\n",
       "      <td>8</td>\n",
       "      <td>pear</td>\n",
       "      <td>2022</td>\n",
       "    </tr>\n",
       "  </tbody>\n",
       "</table>\n",
       "</div>"
      ],
      "text/plain": [
       "   fruitPrice  num fruitName  Year\n",
       "0        2500   10     apple  2022\n",
       "1        3800    5    banana  2022\n",
       "2        6000    3    cherry  2022\n",
       "3        1200    8      pear  2022"
      ]
     },
     "execution_count": 34,
     "metadata": {},
     "output_type": "execute_result"
    }
   ],
   "source": [
    "fruitFrame"
   ]
  },
  {
   "cell_type": "code",
   "execution_count": 36,
   "id": "42524cf4",
   "metadata": {},
   "outputs": [
    {
     "name": "stdout",
     "output_type": "stream",
     "text": [
      "0    4\n",
      "2    2\n",
      "3    1\n",
      "dtype: int64\n"
     ]
    }
   ],
   "source": [
    "variable = Series([4,2,1],index=[0,2,3])   #인덱스를 지정한 후 값 넣기\n",
    "print(variable)"
   ]
  },
  {
   "cell_type": "code",
   "execution_count": 37,
   "id": "64c2c3bc",
   "metadata": {},
   "outputs": [],
   "source": [
    "fruitFrame['stock']=variable"
   ]
  },
  {
   "cell_type": "code",
   "execution_count": 38,
   "id": "4daa0ea8",
   "metadata": {},
   "outputs": [
    {
     "data": {
      "text/html": [
       "<div>\n",
       "<style scoped>\n",
       "    .dataframe tbody tr th:only-of-type {\n",
       "        vertical-align: middle;\n",
       "    }\n",
       "\n",
       "    .dataframe tbody tr th {\n",
       "        vertical-align: top;\n",
       "    }\n",
       "\n",
       "    .dataframe thead th {\n",
       "        text-align: right;\n",
       "    }\n",
       "</style>\n",
       "<table border=\"1\" class=\"dataframe\">\n",
       "  <thead>\n",
       "    <tr style=\"text-align: right;\">\n",
       "      <th></th>\n",
       "      <th>fruitPrice</th>\n",
       "      <th>num</th>\n",
       "      <th>fruitName</th>\n",
       "      <th>Year</th>\n",
       "      <th>stock</th>\n",
       "    </tr>\n",
       "  </thead>\n",
       "  <tbody>\n",
       "    <tr>\n",
       "      <th>0</th>\n",
       "      <td>2500</td>\n",
       "      <td>10</td>\n",
       "      <td>apple</td>\n",
       "      <td>2022</td>\n",
       "      <td>4.0</td>\n",
       "    </tr>\n",
       "    <tr>\n",
       "      <th>1</th>\n",
       "      <td>3800</td>\n",
       "      <td>5</td>\n",
       "      <td>banana</td>\n",
       "      <td>2022</td>\n",
       "      <td>NaN</td>\n",
       "    </tr>\n",
       "    <tr>\n",
       "      <th>2</th>\n",
       "      <td>6000</td>\n",
       "      <td>3</td>\n",
       "      <td>cherry</td>\n",
       "      <td>2022</td>\n",
       "      <td>2.0</td>\n",
       "    </tr>\n",
       "    <tr>\n",
       "      <th>3</th>\n",
       "      <td>1200</td>\n",
       "      <td>8</td>\n",
       "      <td>pear</td>\n",
       "      <td>2022</td>\n",
       "      <td>1.0</td>\n",
       "    </tr>\n",
       "  </tbody>\n",
       "</table>\n",
       "</div>"
      ],
      "text/plain": [
       "   fruitPrice  num fruitName  Year  stock\n",
       "0        2500   10     apple  2022    4.0\n",
       "1        3800    5    banana  2022    NaN\n",
       "2        6000    3    cherry  2022    2.0\n",
       "3        1200    8      pear  2022    1.0"
      ]
     },
     "execution_count": 38,
     "metadata": {},
     "output_type": "execute_result"
    }
   ],
   "source": [
    "fruitFrame       # 지정한 0,2,3인덱스의 값만 들어감!"
   ]
  },
  {
   "cell_type": "code",
   "execution_count": 40,
   "id": "ad2310e3",
   "metadata": {},
   "outputs": [
    {
     "data": {
      "text/plain": [
       "apple     2500\n",
       "banana    3800\n",
       "pear      1200\n",
       "cherry    6000\n",
       "dtype: int64"
      ]
     },
     "execution_count": 40,
     "metadata": {},
     "output_type": "execute_result"
    }
   ],
   "source": [
    "fruit = Series([2500,3800,1200,6000],index=['apple','banana','pear','cherry'])\n",
    "fruit"
   ]
  },
  {
   "cell_type": "code",
   "execution_count": 41,
   "id": "57cab415",
   "metadata": {},
   "outputs": [
    {
     "data": {
      "text/plain": [
       "apple     2500\n",
       "pear      1200\n",
       "cherry    6000\n",
       "dtype: int64"
      ]
     },
     "execution_count": 41,
     "metadata": {},
     "output_type": "execute_result"
    }
   ],
   "source": [
    "fruit.drop('banana')  #삭제 명령 drop, 원본은 삭제 못함. 삭제된 사본을 돌려준다고 보면 됨."
   ]
  },
  {
   "cell_type": "code",
   "execution_count": 42,
   "id": "cddb3700",
   "metadata": {},
   "outputs": [
    {
     "data": {
      "text/plain": [
       "apple     2500\n",
       "banana    3800\n",
       "pear      1200\n",
       "cherry    6000\n",
       "dtype: int64"
      ]
     },
     "execution_count": 42,
     "metadata": {},
     "output_type": "execute_result"
    }
   ],
   "source": [
    "fruit"
   ]
  },
  {
   "cell_type": "code",
   "execution_count": 43,
   "id": "c838e893",
   "metadata": {},
   "outputs": [
    {
     "data": {
      "text/plain": [
       "apple     2500\n",
       "pear      1200\n",
       "cherry    6000\n",
       "dtype: int64"
      ]
     },
     "execution_count": 43,
     "metadata": {},
     "output_type": "execute_result"
    }
   ],
   "source": [
    "new_fruit = fruit.drop('banana')\n",
    "new_fruit"
   ]
  },
  {
   "cell_type": "code",
   "execution_count": 44,
   "id": "ae184fae",
   "metadata": {},
   "outputs": [
    {
     "data": {
      "text/plain": [
       "{'fruitName': ['apple', 'banana', 'cherry', 'pear'],\n",
       " 'fruitPrice': [2500, 3800, 6000, 1200],\n",
       " 'num': [10, 5, 3, 8]}"
      ]
     },
     "execution_count": 44,
     "metadata": {},
     "output_type": "execute_result"
    }
   ],
   "source": [
    "fruitData"
   ]
  },
  {
   "cell_type": "code",
   "execution_count": 45,
   "id": "1b3ecee8",
   "metadata": {},
   "outputs": [
    {
     "data": {
      "text/plain": [
       "['apple', 'banana', 'cherry', 'pear']"
      ]
     },
     "execution_count": 45,
     "metadata": {},
     "output_type": "execute_result"
    }
   ],
   "source": [
    "fruitName = fruitData['fruitName']\n",
    "fruitName"
   ]
  },
  {
   "cell_type": "code",
   "execution_count": 46,
   "id": "729840c3",
   "metadata": {},
   "outputs": [
    {
     "data": {
      "text/html": [
       "<div>\n",
       "<style scoped>\n",
       "    .dataframe tbody tr th:only-of-type {\n",
       "        vertical-align: middle;\n",
       "    }\n",
       "\n",
       "    .dataframe tbody tr th {\n",
       "        vertical-align: top;\n",
       "    }\n",
       "\n",
       "    .dataframe thead th {\n",
       "        text-align: right;\n",
       "    }\n",
       "</style>\n",
       "<table border=\"1\" class=\"dataframe\">\n",
       "  <thead>\n",
       "    <tr style=\"text-align: right;\">\n",
       "      <th></th>\n",
       "      <th>fruitPrice</th>\n",
       "      <th>num</th>\n",
       "    </tr>\n",
       "  </thead>\n",
       "  <tbody>\n",
       "    <tr>\n",
       "      <th>apple</th>\n",
       "      <td>2500</td>\n",
       "      <td>10</td>\n",
       "    </tr>\n",
       "    <tr>\n",
       "      <th>banana</th>\n",
       "      <td>3800</td>\n",
       "      <td>5</td>\n",
       "    </tr>\n",
       "    <tr>\n",
       "      <th>cherry</th>\n",
       "      <td>6000</td>\n",
       "      <td>3</td>\n",
       "    </tr>\n",
       "    <tr>\n",
       "      <th>pear</th>\n",
       "      <td>1200</td>\n",
       "      <td>8</td>\n",
       "    </tr>\n",
       "  </tbody>\n",
       "</table>\n",
       "</div>"
      ],
      "text/plain": [
       "        fruitPrice  num\n",
       "apple         2500   10\n",
       "banana        3800    5\n",
       "cherry        6000    3\n",
       "pear          1200    8"
      ]
     },
     "execution_count": 46,
     "metadata": {},
     "output_type": "execute_result"
    }
   ],
   "source": [
    "fruitFrame = DataFrame(fruitData,\n",
    "                      index =fruitName,\n",
    "                      columns=['fruitPrice','num'])  #인덱스를 과일이름으로 지정하겠다.\n",
    "fruitFrame"
   ]
  },
  {
   "cell_type": "code",
   "execution_count": 48,
   "id": "e95c5f90",
   "metadata": {},
   "outputs": [
    {
     "data": {
      "text/html": [
       "<div>\n",
       "<style scoped>\n",
       "    .dataframe tbody tr th:only-of-type {\n",
       "        vertical-align: middle;\n",
       "    }\n",
       "\n",
       "    .dataframe tbody tr th {\n",
       "        vertical-align: top;\n",
       "    }\n",
       "\n",
       "    .dataframe thead th {\n",
       "        text-align: right;\n",
       "    }\n",
       "</style>\n",
       "<table border=\"1\" class=\"dataframe\">\n",
       "  <thead>\n",
       "    <tr style=\"text-align: right;\">\n",
       "      <th></th>\n",
       "      <th>fruitPrice</th>\n",
       "      <th>num</th>\n",
       "    </tr>\n",
       "  </thead>\n",
       "  <tbody>\n",
       "    <tr>\n",
       "      <th>banana</th>\n",
       "      <td>3800</td>\n",
       "      <td>5</td>\n",
       "    </tr>\n",
       "    <tr>\n",
       "      <th>pear</th>\n",
       "      <td>1200</td>\n",
       "      <td>8</td>\n",
       "    </tr>\n",
       "  </tbody>\n",
       "</table>\n",
       "</div>"
      ],
      "text/plain": [
       "        fruitPrice  num\n",
       "banana        3800    5\n",
       "pear          1200    8"
      ]
     },
     "execution_count": 48,
     "metadata": {},
     "output_type": "execute_result"
    }
   ],
   "source": [
    "fruitFrame2 = fruitFrame.drop(['apple','cherry'])  #지정한 인덱스명으로 삭제\n",
    "fruitFrame2"
   ]
  },
  {
   "cell_type": "code",
   "execution_count": 49,
   "id": "38ea2b31",
   "metadata": {},
   "outputs": [
    {
     "data": {
      "text/html": [
       "<div>\n",
       "<style scoped>\n",
       "    .dataframe tbody tr th:only-of-type {\n",
       "        vertical-align: middle;\n",
       "    }\n",
       "\n",
       "    .dataframe tbody tr th {\n",
       "        vertical-align: top;\n",
       "    }\n",
       "\n",
       "    .dataframe thead th {\n",
       "        text-align: right;\n",
       "    }\n",
       "</style>\n",
       "<table border=\"1\" class=\"dataframe\">\n",
       "  <thead>\n",
       "    <tr style=\"text-align: right;\">\n",
       "      <th></th>\n",
       "      <th>fruitPrice</th>\n",
       "    </tr>\n",
       "  </thead>\n",
       "  <tbody>\n",
       "    <tr>\n",
       "      <th>apple</th>\n",
       "      <td>2500</td>\n",
       "    </tr>\n",
       "    <tr>\n",
       "      <th>banana</th>\n",
       "      <td>3800</td>\n",
       "    </tr>\n",
       "    <tr>\n",
       "      <th>cherry</th>\n",
       "      <td>6000</td>\n",
       "    </tr>\n",
       "    <tr>\n",
       "      <th>pear</th>\n",
       "      <td>1200</td>\n",
       "    </tr>\n",
       "  </tbody>\n",
       "</table>\n",
       "</div>"
      ],
      "text/plain": [
       "        fruitPrice\n",
       "apple         2500\n",
       "banana        3800\n",
       "cherry        6000\n",
       "pear          1200"
      ]
     },
     "execution_count": 49,
     "metadata": {},
     "output_type": "execute_result"
    }
   ],
   "source": [
    "fruitFrame3 = fruitFrame.drop('num', axis=1)  # 세로축은 '1'\n",
    "fruitFrame3"
   ]
  },
  {
   "cell_type": "code",
   "execution_count": 50,
   "id": "c223dd54",
   "metadata": {},
   "outputs": [
    {
     "data": {
      "text/plain": [
       "apple     2500\n",
       "banana    3800\n",
       "pear      1200\n",
       "cherry    6000\n",
       "dtype: int64"
      ]
     },
     "execution_count": 50,
     "metadata": {},
     "output_type": "execute_result"
    }
   ],
   "source": [
    "fruit"
   ]
  },
  {
   "cell_type": "code",
   "execution_count": 51,
   "id": "33feb657",
   "metadata": {},
   "outputs": [
    {
     "data": {
      "text/plain": [
       "apple     2500\n",
       "banana    3800\n",
       "pear      1200\n",
       "dtype: int64"
      ]
     },
     "execution_count": 51,
     "metadata": {},
     "output_type": "execute_result"
    }
   ],
   "source": [
    "fruit['apple':'pear'] #인덱스 사용 부르기"
   ]
  },
  {
   "cell_type": "code",
   "execution_count": 53,
   "id": "9dcb63ae",
   "metadata": {},
   "outputs": [
    {
     "data": {
      "text/plain": [
       "apple    2500\n",
       "dtype: int64"
      ]
     },
     "execution_count": 53,
     "metadata": {},
     "output_type": "execute_result"
    }
   ],
   "source": [
    "fruit[0:1]  #사용x"
   ]
  },
  {
   "cell_type": "code",
   "execution_count": 55,
   "id": "f8fbea26",
   "metadata": {},
   "outputs": [
    {
     "data": {
      "text/html": [
       "<div>\n",
       "<style scoped>\n",
       "    .dataframe tbody tr th:only-of-type {\n",
       "        vertical-align: middle;\n",
       "    }\n",
       "\n",
       "    .dataframe tbody tr th {\n",
       "        vertical-align: top;\n",
       "    }\n",
       "\n",
       "    .dataframe thead th {\n",
       "        text-align: right;\n",
       "    }\n",
       "</style>\n",
       "<table border=\"1\" class=\"dataframe\">\n",
       "  <thead>\n",
       "    <tr style=\"text-align: right;\">\n",
       "      <th></th>\n",
       "      <th>fruitPrice</th>\n",
       "      <th>num</th>\n",
       "    </tr>\n",
       "  </thead>\n",
       "  <tbody>\n",
       "    <tr>\n",
       "      <th>apple</th>\n",
       "      <td>2500</td>\n",
       "      <td>10</td>\n",
       "    </tr>\n",
       "    <tr>\n",
       "      <th>banana</th>\n",
       "      <td>3800</td>\n",
       "      <td>5</td>\n",
       "    </tr>\n",
       "  </tbody>\n",
       "</table>\n",
       "</div>"
      ],
      "text/plain": [
       "        fruitPrice  num\n",
       "apple         2500   10\n",
       "banana        3800    5"
      ]
     },
     "execution_count": 55,
     "metadata": {},
     "output_type": "execute_result"
    }
   ],
   "source": [
    "fruitFrame['apple':'banana']  # [시작, 끝, step] 으로 슬라이싱"
   ]
  },
  {
   "cell_type": "code",
   "execution_count": 56,
   "id": "1e7a7927",
   "metadata": {},
   "outputs": [],
   "source": [
    "fruit1 = Series([5,9,10,3], index = ['apple','banana','cherry','pear'])\n",
    "fruit2 = Series([3,2,9,5,10], index = ['apple','orange','banana','cherry','mango'])"
   ]
  },
  {
   "cell_type": "code",
   "execution_count": 57,
   "id": "21775a0f",
   "metadata": {},
   "outputs": [
    {
     "data": {
      "text/plain": [
       "apple      8.0\n",
       "banana    18.0\n",
       "cherry    15.0\n",
       "mango      NaN\n",
       "orange     NaN\n",
       "pear       NaN\n",
       "dtype: float64"
      ]
     },
     "execution_count": 57,
     "metadata": {},
     "output_type": "execute_result"
    }
   ],
   "source": [
    "fruit1 + fruit2   #같은 인덱스는 계산 되고, 한쪽에만 인덱스가 있는 것은 Null 값이 뜸. 양쪽에 있어야 계산됨."
   ]
  },
  {
   "cell_type": "code",
   "execution_count": 60,
   "id": "53ecb7bc",
   "metadata": {},
   "outputs": [],
   "source": [
    "fruitData1 = {'Ohio' : [4,8,3,5],'Texas' : [0,1,2,3]}\n",
    "fruitFrame1 = DataFrame(fruitData1,columns=['Ohio','Texas'],index = ['apple','banana','cherry','pear'])\n",
    "fruitData2 = {'Ohio' : [3,0,2,1,7],'Colorado':[5,4,3,6,0]}\n",
    "fruitFrame2 = DataFrame(fruitData2,columns =['Ohio','Colorado'],index = ['apple','orange','banana','cherry','mango'])"
   ]
  },
  {
   "cell_type": "code",
   "execution_count": 61,
   "id": "83be929e",
   "metadata": {},
   "outputs": [
    {
     "data": {
      "text/html": [
       "<div>\n",
       "<style scoped>\n",
       "    .dataframe tbody tr th:only-of-type {\n",
       "        vertical-align: middle;\n",
       "    }\n",
       "\n",
       "    .dataframe tbody tr th {\n",
       "        vertical-align: top;\n",
       "    }\n",
       "\n",
       "    .dataframe thead th {\n",
       "        text-align: right;\n",
       "    }\n",
       "</style>\n",
       "<table border=\"1\" class=\"dataframe\">\n",
       "  <thead>\n",
       "    <tr style=\"text-align: right;\">\n",
       "      <th></th>\n",
       "      <th>Ohio</th>\n",
       "      <th>Texas</th>\n",
       "    </tr>\n",
       "  </thead>\n",
       "  <tbody>\n",
       "    <tr>\n",
       "      <th>apple</th>\n",
       "      <td>4</td>\n",
       "      <td>0</td>\n",
       "    </tr>\n",
       "    <tr>\n",
       "      <th>banana</th>\n",
       "      <td>8</td>\n",
       "      <td>1</td>\n",
       "    </tr>\n",
       "    <tr>\n",
       "      <th>cherry</th>\n",
       "      <td>3</td>\n",
       "      <td>2</td>\n",
       "    </tr>\n",
       "    <tr>\n",
       "      <th>pear</th>\n",
       "      <td>5</td>\n",
       "      <td>3</td>\n",
       "    </tr>\n",
       "  </tbody>\n",
       "</table>\n",
       "</div>"
      ],
      "text/plain": [
       "        Ohio  Texas\n",
       "apple      4      0\n",
       "banana     8      1\n",
       "cherry     3      2\n",
       "pear       5      3"
      ]
     },
     "execution_count": 61,
     "metadata": {},
     "output_type": "execute_result"
    }
   ],
   "source": [
    "fruitFrame1"
   ]
  },
  {
   "cell_type": "code",
   "execution_count": 62,
   "id": "0030c90f",
   "metadata": {},
   "outputs": [
    {
     "data": {
      "text/html": [
       "<div>\n",
       "<style scoped>\n",
       "    .dataframe tbody tr th:only-of-type {\n",
       "        vertical-align: middle;\n",
       "    }\n",
       "\n",
       "    .dataframe tbody tr th {\n",
       "        vertical-align: top;\n",
       "    }\n",
       "\n",
       "    .dataframe thead th {\n",
       "        text-align: right;\n",
       "    }\n",
       "</style>\n",
       "<table border=\"1\" class=\"dataframe\">\n",
       "  <thead>\n",
       "    <tr style=\"text-align: right;\">\n",
       "      <th></th>\n",
       "      <th>Ohio</th>\n",
       "      <th>Colorado</th>\n",
       "    </tr>\n",
       "  </thead>\n",
       "  <tbody>\n",
       "    <tr>\n",
       "      <th>apple</th>\n",
       "      <td>3</td>\n",
       "      <td>5</td>\n",
       "    </tr>\n",
       "    <tr>\n",
       "      <th>orange</th>\n",
       "      <td>0</td>\n",
       "      <td>4</td>\n",
       "    </tr>\n",
       "    <tr>\n",
       "      <th>banana</th>\n",
       "      <td>2</td>\n",
       "      <td>3</td>\n",
       "    </tr>\n",
       "    <tr>\n",
       "      <th>cherry</th>\n",
       "      <td>1</td>\n",
       "      <td>6</td>\n",
       "    </tr>\n",
       "    <tr>\n",
       "      <th>mango</th>\n",
       "      <td>7</td>\n",
       "      <td>0</td>\n",
       "    </tr>\n",
       "  </tbody>\n",
       "</table>\n",
       "</div>"
      ],
      "text/plain": [
       "        Ohio  Colorado\n",
       "apple      3         5\n",
       "orange     0         4\n",
       "banana     2         3\n",
       "cherry     1         6\n",
       "mango      7         0"
      ]
     },
     "execution_count": 62,
     "metadata": {},
     "output_type": "execute_result"
    }
   ],
   "source": [
    "fruitFrame2"
   ]
  },
  {
   "cell_type": "code",
   "execution_count": 63,
   "id": "015db57a",
   "metadata": {},
   "outputs": [
    {
     "data": {
      "text/html": [
       "<div>\n",
       "<style scoped>\n",
       "    .dataframe tbody tr th:only-of-type {\n",
       "        vertical-align: middle;\n",
       "    }\n",
       "\n",
       "    .dataframe tbody tr th {\n",
       "        vertical-align: top;\n",
       "    }\n",
       "\n",
       "    .dataframe thead th {\n",
       "        text-align: right;\n",
       "    }\n",
       "</style>\n",
       "<table border=\"1\" class=\"dataframe\">\n",
       "  <thead>\n",
       "    <tr style=\"text-align: right;\">\n",
       "      <th></th>\n",
       "      <th>Colorado</th>\n",
       "      <th>Ohio</th>\n",
       "      <th>Texas</th>\n",
       "    </tr>\n",
       "  </thead>\n",
       "  <tbody>\n",
       "    <tr>\n",
       "      <th>apple</th>\n",
       "      <td>NaN</td>\n",
       "      <td>7.0</td>\n",
       "      <td>NaN</td>\n",
       "    </tr>\n",
       "    <tr>\n",
       "      <th>banana</th>\n",
       "      <td>NaN</td>\n",
       "      <td>10.0</td>\n",
       "      <td>NaN</td>\n",
       "    </tr>\n",
       "    <tr>\n",
       "      <th>cherry</th>\n",
       "      <td>NaN</td>\n",
       "      <td>4.0</td>\n",
       "      <td>NaN</td>\n",
       "    </tr>\n",
       "    <tr>\n",
       "      <th>mango</th>\n",
       "      <td>NaN</td>\n",
       "      <td>NaN</td>\n",
       "      <td>NaN</td>\n",
       "    </tr>\n",
       "    <tr>\n",
       "      <th>orange</th>\n",
       "      <td>NaN</td>\n",
       "      <td>NaN</td>\n",
       "      <td>NaN</td>\n",
       "    </tr>\n",
       "    <tr>\n",
       "      <th>pear</th>\n",
       "      <td>NaN</td>\n",
       "      <td>NaN</td>\n",
       "      <td>NaN</td>\n",
       "    </tr>\n",
       "  </tbody>\n",
       "</table>\n",
       "</div>"
      ],
      "text/plain": [
       "        Colorado  Ohio  Texas\n",
       "apple        NaN   7.0    NaN\n",
       "banana       NaN  10.0    NaN\n",
       "cherry       NaN   4.0    NaN\n",
       "mango        NaN   NaN    NaN\n",
       "orange       NaN   NaN    NaN\n",
       "pear         NaN   NaN    NaN"
      ]
     },
     "execution_count": 63,
     "metadata": {},
     "output_type": "execute_result"
    }
   ],
   "source": [
    "fruitFrame1 + fruitFrame2"
   ]
  },
  {
   "cell_type": "code",
   "execution_count": 64,
   "id": "a171d19e",
   "metadata": {},
   "outputs": [
    {
     "data": {
      "text/plain": [
       "apple     2500\n",
       "banana    3800\n",
       "pear      1200\n",
       "cherry    6000\n",
       "dtype: int64"
      ]
     },
     "execution_count": 64,
     "metadata": {},
     "output_type": "execute_result"
    }
   ],
   "source": [
    "fruit"
   ]
  },
  {
   "cell_type": "code",
   "execution_count": 66,
   "id": "fa82f6cf",
   "metadata": {},
   "outputs": [
    {
     "data": {
      "text/plain": [
       "cherry    6000\n",
       "banana    3800\n",
       "apple     2500\n",
       "pear      1200\n",
       "dtype: int64"
      ]
     },
     "execution_count": 66,
     "metadata": {},
     "output_type": "execute_result"
    }
   ],
   "source": [
    "fruit.sort_values(ascending=False)  #기본()은 오름차순, False값 주면 내림차순"
   ]
  },
  {
   "cell_type": "code",
   "execution_count": 67,
   "id": "ad92ed87",
   "metadata": {},
   "outputs": [
    {
     "data": {
      "text/plain": [
       "apple     2500\n",
       "banana    3800\n",
       "cherry    6000\n",
       "pear      1200\n",
       "dtype: int64"
      ]
     },
     "execution_count": 67,
     "metadata": {},
     "output_type": "execute_result"
    }
   ],
   "source": [
    "fruit.sort_index()"
   ]
  },
  {
   "cell_type": "code",
   "execution_count": 69,
   "id": "cf506e73",
   "metadata": {},
   "outputs": [
    {
     "data": {
      "text/html": [
       "<div>\n",
       "<style scoped>\n",
       "    .dataframe tbody tr th:only-of-type {\n",
       "        vertical-align: middle;\n",
       "    }\n",
       "\n",
       "    .dataframe tbody tr th {\n",
       "        vertical-align: top;\n",
       "    }\n",
       "\n",
       "    .dataframe thead th {\n",
       "        text-align: right;\n",
       "    }\n",
       "</style>\n",
       "<table border=\"1\" class=\"dataframe\">\n",
       "  <thead>\n",
       "    <tr style=\"text-align: right;\">\n",
       "      <th></th>\n",
       "      <th>fruitPrice</th>\n",
       "      <th>num</th>\n",
       "    </tr>\n",
       "  </thead>\n",
       "  <tbody>\n",
       "    <tr>\n",
       "      <th>apple</th>\n",
       "      <td>2500</td>\n",
       "      <td>10</td>\n",
       "    </tr>\n",
       "    <tr>\n",
       "      <th>banana</th>\n",
       "      <td>3800</td>\n",
       "      <td>5</td>\n",
       "    </tr>\n",
       "    <tr>\n",
       "      <th>cherry</th>\n",
       "      <td>6000</td>\n",
       "      <td>3</td>\n",
       "    </tr>\n",
       "    <tr>\n",
       "      <th>pear</th>\n",
       "      <td>1200</td>\n",
       "      <td>8</td>\n",
       "    </tr>\n",
       "  </tbody>\n",
       "</table>\n",
       "</div>"
      ],
      "text/plain": [
       "        fruitPrice  num\n",
       "apple         2500   10\n",
       "banana        3800    5\n",
       "cherry        6000    3\n",
       "pear          1200    8"
      ]
     },
     "execution_count": 69,
     "metadata": {},
     "output_type": "execute_result"
    }
   ],
   "source": [
    "fruitFrame.sort_index()"
   ]
  },
  {
   "cell_type": "code",
   "execution_count": 71,
   "id": "0f2f621f",
   "metadata": {},
   "outputs": [
    {
     "data": {
      "text/html": [
       "<div>\n",
       "<style scoped>\n",
       "    .dataframe tbody tr th:only-of-type {\n",
       "        vertical-align: middle;\n",
       "    }\n",
       "\n",
       "    .dataframe tbody tr th {\n",
       "        vertical-align: top;\n",
       "    }\n",
       "\n",
       "    .dataframe thead th {\n",
       "        text-align: right;\n",
       "    }\n",
       "</style>\n",
       "<table border=\"1\" class=\"dataframe\">\n",
       "  <thead>\n",
       "    <tr style=\"text-align: right;\">\n",
       "      <th></th>\n",
       "      <th>fruitPrice</th>\n",
       "      <th>num</th>\n",
       "    </tr>\n",
       "  </thead>\n",
       "  <tbody>\n",
       "    <tr>\n",
       "      <th>pear</th>\n",
       "      <td>1200</td>\n",
       "      <td>8</td>\n",
       "    </tr>\n",
       "    <tr>\n",
       "      <th>apple</th>\n",
       "      <td>2500</td>\n",
       "      <td>10</td>\n",
       "    </tr>\n",
       "    <tr>\n",
       "      <th>banana</th>\n",
       "      <td>3800</td>\n",
       "      <td>5</td>\n",
       "    </tr>\n",
       "    <tr>\n",
       "      <th>cherry</th>\n",
       "      <td>6000</td>\n",
       "      <td>3</td>\n",
       "    </tr>\n",
       "  </tbody>\n",
       "</table>\n",
       "</div>"
      ],
      "text/plain": [
       "        fruitPrice  num\n",
       "pear          1200    8\n",
       "apple         2500   10\n",
       "banana        3800    5\n",
       "cherry        6000    3"
      ]
     },
     "execution_count": 71,
     "metadata": {},
     "output_type": "execute_result"
    }
   ],
   "source": [
    "fruitFrame.sort_values(by=['fruitPrice','num'])  #정렬기준 지정"
   ]
  },
  {
   "cell_type": "code",
   "execution_count": 111,
   "id": "3a330cf1",
   "metadata": {},
   "outputs": [
    {
     "data": {
      "text/html": [
       "<div>\n",
       "<style scoped>\n",
       "    .dataframe tbody tr th:only-of-type {\n",
       "        vertical-align: middle;\n",
       "    }\n",
       "\n",
       "    .dataframe tbody tr th {\n",
       "        vertical-align: top;\n",
       "    }\n",
       "\n",
       "    .dataframe thead th {\n",
       "        text-align: right;\n",
       "    }\n",
       "</style>\n",
       "<table border=\"1\" class=\"dataframe\">\n",
       "  <thead>\n",
       "    <tr style=\"text-align: right;\">\n",
       "      <th></th>\n",
       "      <th>Creditability</th>\n",
       "      <th>Account Balance</th>\n",
       "      <th>Duration of Credit (month)</th>\n",
       "      <th>Payment Status of Previous Credit</th>\n",
       "      <th>Purpose</th>\n",
       "      <th>Credit Amount</th>\n",
       "      <th>Value Savings/Stocks</th>\n",
       "      <th>Length of current employment</th>\n",
       "      <th>Instalment per cent</th>\n",
       "      <th>Sex &amp; Marital Status</th>\n",
       "      <th>...</th>\n",
       "      <th>Duration in Current address</th>\n",
       "      <th>Most valuable available asset</th>\n",
       "      <th>Age (years)</th>\n",
       "      <th>Concurrent Credits</th>\n",
       "      <th>Type of apartment</th>\n",
       "      <th>No of Credits at this Bank</th>\n",
       "      <th>Occupation</th>\n",
       "      <th>No of dependents</th>\n",
       "      <th>Telephone</th>\n",
       "      <th>Foreign Worker</th>\n",
       "    </tr>\n",
       "  </thead>\n",
       "  <tbody>\n",
       "    <tr>\n",
       "      <th>0</th>\n",
       "      <td>1</td>\n",
       "      <td>1</td>\n",
       "      <td>18</td>\n",
       "      <td>4</td>\n",
       "      <td>2</td>\n",
       "      <td>1049</td>\n",
       "      <td>1</td>\n",
       "      <td>2</td>\n",
       "      <td>4</td>\n",
       "      <td>2</td>\n",
       "      <td>...</td>\n",
       "      <td>4</td>\n",
       "      <td>2</td>\n",
       "      <td>21</td>\n",
       "      <td>3</td>\n",
       "      <td>1</td>\n",
       "      <td>1</td>\n",
       "      <td>3</td>\n",
       "      <td>1</td>\n",
       "      <td>1</td>\n",
       "      <td>1</td>\n",
       "    </tr>\n",
       "    <tr>\n",
       "      <th>1</th>\n",
       "      <td>1</td>\n",
       "      <td>1</td>\n",
       "      <td>9</td>\n",
       "      <td>4</td>\n",
       "      <td>0</td>\n",
       "      <td>2799</td>\n",
       "      <td>1</td>\n",
       "      <td>3</td>\n",
       "      <td>2</td>\n",
       "      <td>3</td>\n",
       "      <td>...</td>\n",
       "      <td>2</td>\n",
       "      <td>1</td>\n",
       "      <td>36</td>\n",
       "      <td>3</td>\n",
       "      <td>1</td>\n",
       "      <td>2</td>\n",
       "      <td>3</td>\n",
       "      <td>2</td>\n",
       "      <td>1</td>\n",
       "      <td>1</td>\n",
       "    </tr>\n",
       "    <tr>\n",
       "      <th>2</th>\n",
       "      <td>1</td>\n",
       "      <td>2</td>\n",
       "      <td>12</td>\n",
       "      <td>2</td>\n",
       "      <td>9</td>\n",
       "      <td>841</td>\n",
       "      <td>2</td>\n",
       "      <td>4</td>\n",
       "      <td>2</td>\n",
       "      <td>2</td>\n",
       "      <td>...</td>\n",
       "      <td>4</td>\n",
       "      <td>1</td>\n",
       "      <td>23</td>\n",
       "      <td>3</td>\n",
       "      <td>1</td>\n",
       "      <td>1</td>\n",
       "      <td>2</td>\n",
       "      <td>1</td>\n",
       "      <td>1</td>\n",
       "      <td>1</td>\n",
       "    </tr>\n",
       "    <tr>\n",
       "      <th>3</th>\n",
       "      <td>1</td>\n",
       "      <td>1</td>\n",
       "      <td>12</td>\n",
       "      <td>4</td>\n",
       "      <td>0</td>\n",
       "      <td>2122</td>\n",
       "      <td>1</td>\n",
       "      <td>3</td>\n",
       "      <td>3</td>\n",
       "      <td>3</td>\n",
       "      <td>...</td>\n",
       "      <td>2</td>\n",
       "      <td>1</td>\n",
       "      <td>39</td>\n",
       "      <td>3</td>\n",
       "      <td>1</td>\n",
       "      <td>2</td>\n",
       "      <td>2</td>\n",
       "      <td>2</td>\n",
       "      <td>1</td>\n",
       "      <td>2</td>\n",
       "    </tr>\n",
       "    <tr>\n",
       "      <th>4</th>\n",
       "      <td>1</td>\n",
       "      <td>1</td>\n",
       "      <td>12</td>\n",
       "      <td>4</td>\n",
       "      <td>0</td>\n",
       "      <td>2171</td>\n",
       "      <td>1</td>\n",
       "      <td>3</td>\n",
       "      <td>4</td>\n",
       "      <td>3</td>\n",
       "      <td>...</td>\n",
       "      <td>4</td>\n",
       "      <td>2</td>\n",
       "      <td>38</td>\n",
       "      <td>1</td>\n",
       "      <td>2</td>\n",
       "      <td>2</td>\n",
       "      <td>2</td>\n",
       "      <td>1</td>\n",
       "      <td>1</td>\n",
       "      <td>2</td>\n",
       "    </tr>\n",
       "    <tr>\n",
       "      <th>...</th>\n",
       "      <td>...</td>\n",
       "      <td>...</td>\n",
       "      <td>...</td>\n",
       "      <td>...</td>\n",
       "      <td>...</td>\n",
       "      <td>...</td>\n",
       "      <td>...</td>\n",
       "      <td>...</td>\n",
       "      <td>...</td>\n",
       "      <td>...</td>\n",
       "      <td>...</td>\n",
       "      <td>...</td>\n",
       "      <td>...</td>\n",
       "      <td>...</td>\n",
       "      <td>...</td>\n",
       "      <td>...</td>\n",
       "      <td>...</td>\n",
       "      <td>...</td>\n",
       "      <td>...</td>\n",
       "      <td>...</td>\n",
       "      <td>...</td>\n",
       "    </tr>\n",
       "    <tr>\n",
       "      <th>995</th>\n",
       "      <td>0</td>\n",
       "      <td>1</td>\n",
       "      <td>24</td>\n",
       "      <td>2</td>\n",
       "      <td>3</td>\n",
       "      <td>1987</td>\n",
       "      <td>1</td>\n",
       "      <td>3</td>\n",
       "      <td>2</td>\n",
       "      <td>3</td>\n",
       "      <td>...</td>\n",
       "      <td>4</td>\n",
       "      <td>1</td>\n",
       "      <td>21</td>\n",
       "      <td>3</td>\n",
       "      <td>1</td>\n",
       "      <td>1</td>\n",
       "      <td>2</td>\n",
       "      <td>2</td>\n",
       "      <td>1</td>\n",
       "      <td>1</td>\n",
       "    </tr>\n",
       "    <tr>\n",
       "      <th>996</th>\n",
       "      <td>0</td>\n",
       "      <td>1</td>\n",
       "      <td>24</td>\n",
       "      <td>2</td>\n",
       "      <td>0</td>\n",
       "      <td>2303</td>\n",
       "      <td>1</td>\n",
       "      <td>5</td>\n",
       "      <td>4</td>\n",
       "      <td>3</td>\n",
       "      <td>...</td>\n",
       "      <td>1</td>\n",
       "      <td>1</td>\n",
       "      <td>45</td>\n",
       "      <td>3</td>\n",
       "      <td>2</td>\n",
       "      <td>1</td>\n",
       "      <td>3</td>\n",
       "      <td>1</td>\n",
       "      <td>1</td>\n",
       "      <td>1</td>\n",
       "    </tr>\n",
       "    <tr>\n",
       "      <th>997</th>\n",
       "      <td>0</td>\n",
       "      <td>4</td>\n",
       "      <td>21</td>\n",
       "      <td>4</td>\n",
       "      <td>0</td>\n",
       "      <td>12680</td>\n",
       "      <td>5</td>\n",
       "      <td>5</td>\n",
       "      <td>4</td>\n",
       "      <td>3</td>\n",
       "      <td>...</td>\n",
       "      <td>4</td>\n",
       "      <td>4</td>\n",
       "      <td>30</td>\n",
       "      <td>3</td>\n",
       "      <td>3</td>\n",
       "      <td>1</td>\n",
       "      <td>4</td>\n",
       "      <td>1</td>\n",
       "      <td>2</td>\n",
       "      <td>1</td>\n",
       "    </tr>\n",
       "    <tr>\n",
       "      <th>998</th>\n",
       "      <td>0</td>\n",
       "      <td>2</td>\n",
       "      <td>12</td>\n",
       "      <td>2</td>\n",
       "      <td>3</td>\n",
       "      <td>6468</td>\n",
       "      <td>5</td>\n",
       "      <td>1</td>\n",
       "      <td>2</td>\n",
       "      <td>3</td>\n",
       "      <td>...</td>\n",
       "      <td>1</td>\n",
       "      <td>4</td>\n",
       "      <td>52</td>\n",
       "      <td>3</td>\n",
       "      <td>2</td>\n",
       "      <td>1</td>\n",
       "      <td>4</td>\n",
       "      <td>1</td>\n",
       "      <td>2</td>\n",
       "      <td>1</td>\n",
       "    </tr>\n",
       "    <tr>\n",
       "      <th>999</th>\n",
       "      <td>0</td>\n",
       "      <td>1</td>\n",
       "      <td>30</td>\n",
       "      <td>2</td>\n",
       "      <td>2</td>\n",
       "      <td>6350</td>\n",
       "      <td>5</td>\n",
       "      <td>5</td>\n",
       "      <td>4</td>\n",
       "      <td>3</td>\n",
       "      <td>...</td>\n",
       "      <td>4</td>\n",
       "      <td>2</td>\n",
       "      <td>31</td>\n",
       "      <td>3</td>\n",
       "      <td>2</td>\n",
       "      <td>1</td>\n",
       "      <td>3</td>\n",
       "      <td>1</td>\n",
       "      <td>1</td>\n",
       "      <td>1</td>\n",
       "    </tr>\n",
       "  </tbody>\n",
       "</table>\n",
       "<p>1000 rows × 21 columns</p>\n",
       "</div>"
      ],
      "text/plain": [
       "     Creditability  Account Balance  Duration of Credit (month)  \\\n",
       "0                1                1                          18   \n",
       "1                1                1                           9   \n",
       "2                1                2                          12   \n",
       "3                1                1                          12   \n",
       "4                1                1                          12   \n",
       "..             ...              ...                         ...   \n",
       "995              0                1                          24   \n",
       "996              0                1                          24   \n",
       "997              0                4                          21   \n",
       "998              0                2                          12   \n",
       "999              0                1                          30   \n",
       "\n",
       "     Payment Status of Previous Credit  Purpose  Credit Amount  \\\n",
       "0                                    4        2           1049   \n",
       "1                                    4        0           2799   \n",
       "2                                    2        9            841   \n",
       "3                                    4        0           2122   \n",
       "4                                    4        0           2171   \n",
       "..                                 ...      ...            ...   \n",
       "995                                  2        3           1987   \n",
       "996                                  2        0           2303   \n",
       "997                                  4        0          12680   \n",
       "998                                  2        3           6468   \n",
       "999                                  2        2           6350   \n",
       "\n",
       "     Value Savings/Stocks  Length of current employment  Instalment per cent  \\\n",
       "0                       1                             2                    4   \n",
       "1                       1                             3                    2   \n",
       "2                       2                             4                    2   \n",
       "3                       1                             3                    3   \n",
       "4                       1                             3                    4   \n",
       "..                    ...                           ...                  ...   \n",
       "995                     1                             3                    2   \n",
       "996                     1                             5                    4   \n",
       "997                     5                             5                    4   \n",
       "998                     5                             1                    2   \n",
       "999                     5                             5                    4   \n",
       "\n",
       "     Sex & Marital Status  ...  Duration in Current address  \\\n",
       "0                       2  ...                            4   \n",
       "1                       3  ...                            2   \n",
       "2                       2  ...                            4   \n",
       "3                       3  ...                            2   \n",
       "4                       3  ...                            4   \n",
       "..                    ...  ...                          ...   \n",
       "995                     3  ...                            4   \n",
       "996                     3  ...                            1   \n",
       "997                     3  ...                            4   \n",
       "998                     3  ...                            1   \n",
       "999                     3  ...                            4   \n",
       "\n",
       "     Most valuable available asset  Age (years)  Concurrent Credits  \\\n",
       "0                                2           21                   3   \n",
       "1                                1           36                   3   \n",
       "2                                1           23                   3   \n",
       "3                                1           39                   3   \n",
       "4                                2           38                   1   \n",
       "..                             ...          ...                 ...   \n",
       "995                              1           21                   3   \n",
       "996                              1           45                   3   \n",
       "997                              4           30                   3   \n",
       "998                              4           52                   3   \n",
       "999                              2           31                   3   \n",
       "\n",
       "     Type of apartment  No of Credits at this Bank  Occupation  \\\n",
       "0                    1                           1           3   \n",
       "1                    1                           2           3   \n",
       "2                    1                           1           2   \n",
       "3                    1                           2           2   \n",
       "4                    2                           2           2   \n",
       "..                 ...                         ...         ...   \n",
       "995                  1                           1           2   \n",
       "996                  2                           1           3   \n",
       "997                  3                           1           4   \n",
       "998                  2                           1           4   \n",
       "999                  2                           1           3   \n",
       "\n",
       "     No of dependents  Telephone  Foreign Worker  \n",
       "0                   1          1               1  \n",
       "1                   2          1               1  \n",
       "2                   1          1               1  \n",
       "3                   2          1               2  \n",
       "4                   1          1               2  \n",
       "..                ...        ...             ...  \n",
       "995                 2          1               1  \n",
       "996                 1          1               1  \n",
       "997                 1          2               1  \n",
       "998                 1          2               1  \n",
       "999                 1          1               1  \n",
       "\n",
       "[1000 rows x 21 columns]"
      ]
     },
     "execution_count": 111,
     "metadata": {},
     "output_type": "execute_result"
    }
   ],
   "source": [
    "german=pd.read_csv('http://freakonometrics.free.fr/german_credit.csv') # 로컬 or 웹상에 있는 파일을 바로 땡겨올 수 있음. pd.~~\n",
    "german"
   ]
  },
  {
   "cell_type": "code",
   "execution_count": 76,
   "id": "27a198be",
   "metadata": {},
   "outputs": [
    {
     "data": {
      "text/plain": [
       "['Creditability',\n",
       " 'Account Balance',\n",
       " 'Duration of Credit (month)',\n",
       " 'Payment Status of Previous Credit',\n",
       " 'Purpose',\n",
       " 'Credit Amount',\n",
       " 'Value Savings/Stocks',\n",
       " 'Length of current employment',\n",
       " 'Instalment per cent',\n",
       " 'Sex & Marital Status',\n",
       " 'Guarantors',\n",
       " 'Duration in Current address',\n",
       " 'Most valuable available asset',\n",
       " 'Age (years)',\n",
       " 'Concurrent Credits',\n",
       " 'Type of apartment',\n",
       " 'No of Credits at this Bank',\n",
       " 'Occupation',\n",
       " 'No of dependents',\n",
       " 'Telephone',\n",
       " 'Foreign Worker']"
      ]
     },
     "execution_count": 76,
     "metadata": {},
     "output_type": "execute_result"
    }
   ],
   "source": [
    "list(german.columns.values)  # 컬럼 이름만 뽑아내기 (넘파이 배열을 리스트 객체로 받아내기)"
   ]
  },
  {
   "cell_type": "code",
   "execution_count": 81,
   "id": "dd7c2680",
   "metadata": {},
   "outputs": [
    {
     "data": {
      "text/html": [
       "<div>\n",
       "<style scoped>\n",
       "    .dataframe tbody tr th:only-of-type {\n",
       "        vertical-align: middle;\n",
       "    }\n",
       "\n",
       "    .dataframe tbody tr th {\n",
       "        vertical-align: top;\n",
       "    }\n",
       "\n",
       "    .dataframe thead th {\n",
       "        text-align: right;\n",
       "    }\n",
       "</style>\n",
       "<table border=\"1\" class=\"dataframe\">\n",
       "  <thead>\n",
       "    <tr style=\"text-align: right;\">\n",
       "      <th></th>\n",
       "      <th>Creditability</th>\n",
       "      <th>Duration of Credit (month)</th>\n",
       "      <th>Purpose</th>\n",
       "      <th>Credit Amount</th>\n",
       "    </tr>\n",
       "  </thead>\n",
       "  <tbody>\n",
       "    <tr>\n",
       "      <th>0</th>\n",
       "      <td>1</td>\n",
       "      <td>18</td>\n",
       "      <td>2</td>\n",
       "      <td>1049</td>\n",
       "    </tr>\n",
       "    <tr>\n",
       "      <th>1</th>\n",
       "      <td>1</td>\n",
       "      <td>9</td>\n",
       "      <td>0</td>\n",
       "      <td>2799</td>\n",
       "    </tr>\n",
       "    <tr>\n",
       "      <th>2</th>\n",
       "      <td>1</td>\n",
       "      <td>12</td>\n",
       "      <td>9</td>\n",
       "      <td>841</td>\n",
       "    </tr>\n",
       "    <tr>\n",
       "      <th>3</th>\n",
       "      <td>1</td>\n",
       "      <td>12</td>\n",
       "      <td>0</td>\n",
       "      <td>2122</td>\n",
       "    </tr>\n",
       "    <tr>\n",
       "      <th>4</th>\n",
       "      <td>1</td>\n",
       "      <td>12</td>\n",
       "      <td>0</td>\n",
       "      <td>2171</td>\n",
       "    </tr>\n",
       "    <tr>\n",
       "      <th>...</th>\n",
       "      <td>...</td>\n",
       "      <td>...</td>\n",
       "      <td>...</td>\n",
       "      <td>...</td>\n",
       "    </tr>\n",
       "    <tr>\n",
       "      <th>995</th>\n",
       "      <td>0</td>\n",
       "      <td>24</td>\n",
       "      <td>3</td>\n",
       "      <td>1987</td>\n",
       "    </tr>\n",
       "    <tr>\n",
       "      <th>996</th>\n",
       "      <td>0</td>\n",
       "      <td>24</td>\n",
       "      <td>0</td>\n",
       "      <td>2303</td>\n",
       "    </tr>\n",
       "    <tr>\n",
       "      <th>997</th>\n",
       "      <td>0</td>\n",
       "      <td>21</td>\n",
       "      <td>0</td>\n",
       "      <td>12680</td>\n",
       "    </tr>\n",
       "    <tr>\n",
       "      <th>998</th>\n",
       "      <td>0</td>\n",
       "      <td>12</td>\n",
       "      <td>3</td>\n",
       "      <td>6468</td>\n",
       "    </tr>\n",
       "    <tr>\n",
       "      <th>999</th>\n",
       "      <td>0</td>\n",
       "      <td>30</td>\n",
       "      <td>2</td>\n",
       "      <td>6350</td>\n",
       "    </tr>\n",
       "  </tbody>\n",
       "</table>\n",
       "<p>1000 rows × 4 columns</p>\n",
       "</div>"
      ],
      "text/plain": [
       "     Creditability  Duration of Credit (month)  Purpose  Credit Amount\n",
       "0                1                          18        2           1049\n",
       "1                1                           9        0           2799\n",
       "2                1                          12        9            841\n",
       "3                1                          12        0           2122\n",
       "4                1                          12        0           2171\n",
       "..             ...                         ...      ...            ...\n",
       "995              0                          24        3           1987\n",
       "996              0                          24        0           2303\n",
       "997              0                          21        0          12680\n",
       "998              0                          12        3           6468\n",
       "999              0                          30        2           6350\n",
       "\n",
       "[1000 rows x 4 columns]"
      ]
     },
     "execution_count": 81,
     "metadata": {},
     "output_type": "execute_result"
    }
   ],
   "source": [
    "german_sample = german[['Creditability','Duration of Credit (month)', 'Purpose', 'Credit Amount']]\n",
    "german_sample  #샘플이라는 변수를 만들고, 내가 사용하고자 하는 컬럼만 가져오기"
   ]
  },
  {
   "cell_type": "code",
   "execution_count": 82,
   "id": "234b9776",
   "metadata": {},
   "outputs": [
    {
     "data": {
      "text/plain": [
       "Creditability                   0\n",
       "Duration of Credit (month)      4\n",
       "Purpose                         0\n",
       "Credit Amount                 250\n",
       "dtype: int64"
      ]
     },
     "execution_count": 82,
     "metadata": {},
     "output_type": "execute_result"
    }
   ],
   "source": [
    "german_sample.min()"
   ]
  },
  {
   "cell_type": "code",
   "execution_count": 83,
   "id": "e5760ae4",
   "metadata": {},
   "outputs": [
    {
     "data": {
      "text/plain": [
       "Creditability                     1\n",
       "Duration of Credit (month)       72\n",
       "Purpose                          10\n",
       "Credit Amount                 18424\n",
       "dtype: int64"
      ]
     },
     "execution_count": 83,
     "metadata": {},
     "output_type": "execute_result"
    }
   ],
   "source": [
    "german_sample.max()"
   ]
  },
  {
   "cell_type": "code",
   "execution_count": 84,
   "id": "a296fa26",
   "metadata": {},
   "outputs": [
    {
     "data": {
      "text/plain": [
       "Creditability                    0.700\n",
       "Duration of Credit (month)      20.903\n",
       "Purpose                          2.828\n",
       "Credit Amount                 3271.248\n",
       "dtype: float64"
      ]
     },
     "execution_count": 84,
     "metadata": {},
     "output_type": "execute_result"
    }
   ],
   "source": [
    "german_sample.mean()"
   ]
  },
  {
   "cell_type": "code",
   "execution_count": 85,
   "id": "3ddd9426",
   "metadata": {},
   "outputs": [
    {
     "data": {
      "text/plain": [
       "<bound method NDFrame.describe of      Creditability  Duration of Credit (month)  Purpose  Credit Amount\n",
       "0                1                          18        2           1049\n",
       "1                1                           9        0           2799\n",
       "2                1                          12        9            841\n",
       "3                1                          12        0           2122\n",
       "4                1                          12        0           2171\n",
       "..             ...                         ...      ...            ...\n",
       "995              0                          24        3           1987\n",
       "996              0                          24        0           2303\n",
       "997              0                          21        0          12680\n",
       "998              0                          12        3           6468\n",
       "999              0                          30        2           6350\n",
       "\n",
       "[1000 rows x 4 columns]>"
      ]
     },
     "execution_count": 85,
     "metadata": {},
     "output_type": "execute_result"
    }
   ],
   "source": [
    "german_sample.describe   # 데이터 전체 요약 정보"
   ]
  },
  {
   "cell_type": "code",
   "execution_count": 86,
   "id": "de657714",
   "metadata": {},
   "outputs": [],
   "source": [
    "german_sample=german[['Duration of Credit (month)', 'Credit Amount', 'Age (years)' ]]"
   ]
  },
  {
   "cell_type": "code",
   "execution_count": 88,
   "id": "a8a4a2ca",
   "metadata": {},
   "outputs": [
    {
     "data": {
      "text/html": [
       "<div>\n",
       "<style scoped>\n",
       "    .dataframe tbody tr th:only-of-type {\n",
       "        vertical-align: middle;\n",
       "    }\n",
       "\n",
       "    .dataframe tbody tr th {\n",
       "        vertical-align: top;\n",
       "    }\n",
       "\n",
       "    .dataframe thead th {\n",
       "        text-align: right;\n",
       "    }\n",
       "</style>\n",
       "<table border=\"1\" class=\"dataframe\">\n",
       "  <thead>\n",
       "    <tr style=\"text-align: right;\">\n",
       "      <th></th>\n",
       "      <th>Duration of Credit (month)</th>\n",
       "      <th>Credit Amount</th>\n",
       "      <th>Age (years)</th>\n",
       "    </tr>\n",
       "  </thead>\n",
       "  <tbody>\n",
       "    <tr>\n",
       "      <th>Duration of Credit (month)</th>\n",
       "      <td>1.000000</td>\n",
       "      <td>0.624988</td>\n",
       "      <td>-0.037550</td>\n",
       "    </tr>\n",
       "    <tr>\n",
       "      <th>Credit Amount</th>\n",
       "      <td>0.624988</td>\n",
       "      <td>1.000000</td>\n",
       "      <td>0.032273</td>\n",
       "    </tr>\n",
       "    <tr>\n",
       "      <th>Age (years)</th>\n",
       "      <td>-0.037550</td>\n",
       "      <td>0.032273</td>\n",
       "      <td>1.000000</td>\n",
       "    </tr>\n",
       "  </tbody>\n",
       "</table>\n",
       "</div>"
      ],
      "text/plain": [
       "                            Duration of Credit (month)  Credit Amount  \\\n",
       "Duration of Credit (month)                    1.000000       0.624988   \n",
       "Credit Amount                                 0.624988       1.000000   \n",
       "Age (years)                                  -0.037550       0.032273   \n",
       "\n",
       "                            Age (years)  \n",
       "Duration of Credit (month)    -0.037550  \n",
       "Credit Amount                  0.032273  \n",
       "Age (years)                    1.000000  "
      ]
     },
     "execution_count": 88,
     "metadata": {},
     "output_type": "execute_result"
    }
   ],
   "source": [
    "german_sample.corr()        # 상관계수  ( '1'= 100% 관련있다 )"
   ]
  },
  {
   "cell_type": "code",
   "execution_count": 121,
   "id": "8b015294",
   "metadata": {},
   "outputs": [],
   "source": [
    "german_sample = german[['Credit Amount','Type of apartment']]"
   ]
  },
  {
   "cell_type": "code",
   "execution_count": 122,
   "id": "1f16518a",
   "metadata": {},
   "outputs": [
    {
     "data": {
      "text/html": [
       "<div>\n",
       "<style scoped>\n",
       "    .dataframe tbody tr th:only-of-type {\n",
       "        vertical-align: middle;\n",
       "    }\n",
       "\n",
       "    .dataframe tbody tr th {\n",
       "        vertical-align: top;\n",
       "    }\n",
       "\n",
       "    .dataframe thead th {\n",
       "        text-align: right;\n",
       "    }\n",
       "</style>\n",
       "<table border=\"1\" class=\"dataframe\">\n",
       "  <thead>\n",
       "    <tr style=\"text-align: right;\">\n",
       "      <th></th>\n",
       "      <th>Credit Amount</th>\n",
       "      <th>Type of apartment</th>\n",
       "    </tr>\n",
       "  </thead>\n",
       "  <tbody>\n",
       "    <tr>\n",
       "      <th>0</th>\n",
       "      <td>1049</td>\n",
       "      <td>1</td>\n",
       "    </tr>\n",
       "    <tr>\n",
       "      <th>1</th>\n",
       "      <td>2799</td>\n",
       "      <td>1</td>\n",
       "    </tr>\n",
       "    <tr>\n",
       "      <th>2</th>\n",
       "      <td>841</td>\n",
       "      <td>1</td>\n",
       "    </tr>\n",
       "    <tr>\n",
       "      <th>3</th>\n",
       "      <td>2122</td>\n",
       "      <td>1</td>\n",
       "    </tr>\n",
       "    <tr>\n",
       "      <th>4</th>\n",
       "      <td>2171</td>\n",
       "      <td>2</td>\n",
       "    </tr>\n",
       "    <tr>\n",
       "      <th>...</th>\n",
       "      <td>...</td>\n",
       "      <td>...</td>\n",
       "    </tr>\n",
       "    <tr>\n",
       "      <th>995</th>\n",
       "      <td>1987</td>\n",
       "      <td>1</td>\n",
       "    </tr>\n",
       "    <tr>\n",
       "      <th>996</th>\n",
       "      <td>2303</td>\n",
       "      <td>2</td>\n",
       "    </tr>\n",
       "    <tr>\n",
       "      <th>997</th>\n",
       "      <td>12680</td>\n",
       "      <td>3</td>\n",
       "    </tr>\n",
       "    <tr>\n",
       "      <th>998</th>\n",
       "      <td>6468</td>\n",
       "      <td>2</td>\n",
       "    </tr>\n",
       "    <tr>\n",
       "      <th>999</th>\n",
       "      <td>6350</td>\n",
       "      <td>2</td>\n",
       "    </tr>\n",
       "  </tbody>\n",
       "</table>\n",
       "<p>1000 rows × 2 columns</p>\n",
       "</div>"
      ],
      "text/plain": [
       "     Credit Amount  Type of apartment\n",
       "0             1049                  1\n",
       "1             2799                  1\n",
       "2              841                  1\n",
       "3             2122                  1\n",
       "4             2171                  2\n",
       "..             ...                ...\n",
       "995           1987                  1\n",
       "996           2303                  2\n",
       "997          12680                  3\n",
       "998           6468                  2\n",
       "999           6350                  2\n",
       "\n",
       "[1000 rows x 2 columns]"
      ]
     },
     "execution_count": 122,
     "metadata": {},
     "output_type": "execute_result"
    }
   ],
   "source": [
    "german_sample"
   ]
  },
  {
   "cell_type": "code",
   "execution_count": 124,
   "id": "146ad9d3",
   "metadata": {},
   "outputs": [],
   "source": [
    "german_grouped = german_sample['Credit Amount'].groupby(german_sample['Type of apartment']) #주거종류에 따라 채권을 보고 싶음"
   ]
  },
  {
   "cell_type": "code",
   "execution_count": 125,
   "id": "337f1e73",
   "metadata": {},
   "outputs": [
    {
     "data": {
      "text/plain": [
       "Type of apartment\n",
       "1    3122.553073\n",
       "2    3067.257703\n",
       "3    4881.205607\n",
       "Name: Credit Amount, dtype: float64"
      ]
     },
     "execution_count": 125,
     "metadata": {},
     "output_type": "execute_result"
    }
   ],
   "source": [
    "german_grouped.mean()  # 그룹별로 '평균'을 보고 싶다고 명시해줘야 함"
   ]
  },
  {
   "cell_type": "code",
   "execution_count": 98,
   "id": "a583d702",
   "metadata": {},
   "outputs": [],
   "source": [
    "german_sample = german[['Credit Amount','Type of apartment', 'Purpose']]"
   ]
  },
  {
   "cell_type": "code",
   "execution_count": 102,
   "id": "1c8bda30",
   "metadata": {},
   "outputs": [
    {
     "data": {
      "text/plain": [
       "<pandas.core.groupby.generic.SeriesGroupBy object at 0x0000025635FF4250>"
      ]
     },
     "execution_count": 102,
     "metadata": {},
     "output_type": "execute_result"
    }
   ],
   "source": [
    "german_grouped = german_sample['Credit Amount'].groupby(\n",
    "[german_sample['Purpose'],\n",
    "german_sample['Type of apartment']])\n",
    "german_grouped                         #기준을 하나 더 추가"
   ]
  },
  {
   "cell_type": "code",
   "execution_count": 103,
   "id": "0d62c8cf",
   "metadata": {},
   "outputs": [
    {
     "data": {
      "text/plain": [
       "Purpose  Type of apartment\n",
       "0        1                    2597.225000\n",
       "         2                    2811.024242\n",
       "         3                    5138.689655\n",
       "1        1                    5037.086957\n",
       "         2                    4915.222222\n",
       "         3                    6609.923077\n",
       "2        1                    2727.354167\n",
       "         2                    3107.450820\n",
       "         3                    4100.181818\n",
       "3        1                    2199.763158\n",
       "         2                    2540.533040\n",
       "         3                    2417.333333\n",
       "4        1                    1255.500000\n",
       "         2                    1546.500000\n",
       "5        1                    1522.000000\n",
       "         2                    2866.000000\n",
       "         3                    2750.666667\n",
       "6        1                    3156.444444\n",
       "         2                    2492.423077\n",
       "         3                    4387.266667\n",
       "8        1                     902.000000\n",
       "         2                    1243.875000\n",
       "9        1                    5614.125000\n",
       "         2                    3800.592105\n",
       "         3                    4931.800000\n",
       "10       2                    8576.111111\n",
       "         3                    7109.000000\n",
       "Name: Credit Amount, dtype: float64"
      ]
     },
     "execution_count": 103,
     "metadata": {},
     "output_type": "execute_result"
    }
   ],
   "source": [
    "german_grouped.mean()"
   ]
  },
  {
   "cell_type": "code",
   "execution_count": null,
   "id": "dcd3df81",
   "metadata": {},
   "outputs": [],
   "source": []
  }
 ],
 "metadata": {
  "kernelspec": {
   "display_name": "Python 3 (ipykernel)",
   "language": "python",
   "name": "python3"
  },
  "language_info": {
   "codemirror_mode": {
    "name": "ipython",
    "version": 3
   },
   "file_extension": ".py",
   "mimetype": "text/x-python",
   "name": "python",
   "nbconvert_exporter": "python",
   "pygments_lexer": "ipython3",
   "version": "3.9.7"
  }
 },
 "nbformat": 4,
 "nbformat_minor": 5
}
